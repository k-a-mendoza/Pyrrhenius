{
 "cells": [
  {
   "cell_type": "code",
   "execution_count": 1,
   "id": "20b9bec8",
   "metadata": {
    "execution": {
     "iopub.execute_input": "2024-06-07T22:30:47.888786Z",
     "iopub.status.busy": "2024-06-07T22:30:47.888295Z",
     "iopub.status.idle": "2024-06-07T22:30:48.374617Z",
     "shell.execute_reply": "2024-06-07T22:30:48.374185Z"
    }
   },
   "outputs": [],
   "source": [
    "import numpy as np\n",
    "np.set_printoptions(edgeitems=3, infstr='inf', linewidth=75, nanstr='nan',\n",
    "                   precision=8, suppress=False, threshold=3, formatter=None)\n",
    "\n",
    "import pyrrhenius.database as phsd\n",
    "\n",
    "database_location = 'database/publication_database.csv'\n",
    "ecdatabase = phsd.Database(database_location)"
   ]
  },
  {
   "cell_type": "code",
   "execution_count": 2,
   "id": "24a6bf8e",
   "metadata": {
    "execution": {
     "iopub.execute_input": "2024-06-07T22:30:48.377104Z",
     "iopub.status.busy": "2024-06-07T22:30:48.376932Z",
     "iopub.status.idle": "2024-06-07T22:30:48.380998Z",
     "shell.execute_reply": "2024-06-07T22:30:48.380683Z"
    }
   },
   "outputs": [
    {
     "name": "stdout",
     "output_type": "stream",
     "text": [
      "nv_17_ol[010]:{NerstEinstein2 1.8e+42(nan) 10^-5.0(0.9) 1.782654381(0.196921123) }\n",
      "SEO3_ol:{e*(5.06e+24(nan) exp( -0.357(nan)/kT) 3.33e+24(nan) exp( -0.02(nan)/kT) fO2^0.166667(nan))*1.22e-05(nan) exp( -1.05(nan)/kT) + e*(4.58e+26(nan) exp( -0.752(nan)/kT) 6.209999999999999e+30(nan) exp( -1.83(nan)/kT) fO2^0.166666667(nan))*5.44e-06(nan) exp( -1.09(nan)/kT)}\n",
      "nv_17_ol[010]+SEO3_ol:{nv_17_ol[010]:{NerstEinstein2 1.8e+42(nan) 10^-5.0(0.9) 1.782654381(0.196921123) }+SEO3_ol:{e*(5.06e+24(nan) exp( -0.357(nan)/kT) 3.33e+24(nan) exp( -0.02(nan)/kT) fO2^0.166667(nan))*1.22e-05(nan) exp( -1.05(nan)/kT) + e*(4.58e+26(nan) exp( -0.752(nan)/kT) 6.209999999999999e+30(nan) exp( -1.83(nan)/kT) fO2^0.166666667(nan))*5.44e-06(nan) exp( -1.09(nan)/kT)}}\n"
     ]
    }
   ],
   "source": [
    "nv17HD  = ecdatabase.get_model('nv_17_ol[010]') # Novella et al. 2017's HD diffusion equation\n",
    "print(nv17HD)\n",
    "\n",
    "seo3dry =  ecdatabase.get_model('SEO3_ol') # Constable et al. 2006's dry olivine equation\n",
    "print(seo3dry)\n",
    "\n",
    "combined = nv17HD+seo3dry\n",
    "print(combined)"
   ]
  },
  {
   "cell_type": "code",
   "execution_count": 3,
   "id": "13840433",
   "metadata": {
    "execution": {
     "iopub.execute_input": "2024-06-07T22:30:48.383185Z",
     "iopub.status.busy": "2024-06-07T22:30:48.383066Z",
     "iopub.status.idle": "2024-06-07T22:30:48.387783Z",
     "shell.execute_reply": "2024-06-07T22:30:48.387479Z"
    }
   },
   "outputs": [
    {
     "data": {
      "text/plain": [
       "array([2.73808615e-05])"
      ]
     },
     "execution_count": 3,
     "metadata": {},
     "output_type": "execute_result"
    }
   ],
   "source": [
    "model = ecdatabase.get_model('SEO3_ol')\n",
    "model.get_conductivity(T=1000, P=1.0, logfo2=10**-11)"
   ]
  },
  {
   "cell_type": "code",
   "execution_count": 4,
   "id": "b9eae8d8",
   "metadata": {
    "execution": {
     "iopub.execute_input": "2024-06-07T22:30:48.389601Z",
     "iopub.status.busy": "2024-06-07T22:30:48.389453Z",
     "iopub.status.idle": "2024-06-07T22:30:48.392711Z",
     "shell.execute_reply": "2024-06-07T22:30:48.392390Z"
    }
   },
   "outputs": [
    {
     "name": "stdout",
     "output_type": "stream",
     "text": [
      "(4,)\n"
     ]
    },
    {
     "data": {
      "text/plain": [
       "array([1.29536636e-07, 1.29536636e-07, 1.29536636e-07, 1.29536636e-07])"
      ]
     },
     "execution_count": 4,
     "metadata": {},
     "output_type": "execute_result"
    }
   ],
   "source": [
    "T = np.ones(4)*700 # in degrees K\n",
    "print(T.shape)\n",
    "model.get_conductivity(T=T, P=1.0, logfo2=10**-11)"
   ]
  },
  {
   "cell_type": "code",
   "execution_count": 5,
   "id": "46453de0",
   "metadata": {
    "execution": {
     "iopub.execute_input": "2024-06-07T22:30:48.394758Z",
     "iopub.status.busy": "2024-06-07T22:30:48.394641Z",
     "iopub.status.idle": "2024-06-07T22:30:48.397979Z",
     "shell.execute_reply": "2024-06-07T22:30:48.397670Z"
    }
   },
   "outputs": [
    {
     "name": "stdout",
     "output_type": "stream",
     "text": [
      "(4, 4)\n"
     ]
    },
    {
     "data": {
      "text/plain": [
       "array([[1.29536636e-07, 1.29536636e-07, 1.29536636e-07, 1.29536636e-07],\n",
       "       [1.29536636e-07, 1.29536636e-07, 1.29536636e-07, 1.29536636e-07],\n",
       "       [1.29536636e-07, 1.29536636e-07, 1.29536636e-07, 1.29536636e-07],\n",
       "       [1.29536636e-07, 1.29536636e-07, 1.29536636e-07, 1.29536636e-07]])"
      ]
     },
     "execution_count": 5,
     "metadata": {},
     "output_type": "execute_result"
    }
   ],
   "source": [
    "T = np.ones((4,4))*700 # in degrees K\n",
    "print(T.shape)\n",
    "model.get_conductivity(T=T, P=1.0, logfo2=10**-11)"
   ]
  },
  {
   "cell_type": "code",
   "execution_count": 6,
   "id": "145ad11e",
   "metadata": {
    "execution": {
     "iopub.execute_input": "2024-06-07T22:30:48.399892Z",
     "iopub.status.busy": "2024-06-07T22:30:48.399739Z",
     "iopub.status.idle": "2024-06-07T22:30:48.402088Z",
     "shell.execute_reply": "2024-06-07T22:30:48.401689Z"
    }
   },
   "outputs": [
    {
     "name": "stdout",
     "output_type": "stream",
     "text": [
      "Did not provide an oxygen fugacity value!\n"
     ]
    }
   ],
   "source": [
    "try:\n",
    "    model.get_conductivity(T=T)\n",
    "except AssertionError as e:\n",
    "    print(e)"
   ]
  },
  {
   "cell_type": "code",
   "execution_count": 7,
   "id": "b30a7325",
   "metadata": {
    "execution": {
     "iopub.execute_input": "2024-06-07T22:30:48.404212Z",
     "iopub.status.busy": "2024-06-07T22:30:48.404046Z",
     "iopub.status.idle": "2024-06-07T22:30:48.406349Z",
     "shell.execute_reply": "2024-06-07T22:30:48.405963Z"
    }
   },
   "outputs": [
    {
     "name": "stdout",
     "output_type": "stream",
     "text": [
      "Required Keywords\n",
      "********************\n",
      "--------------------\n",
      "Intrinsic Arguments\n",
      "--------------------\n",
      "--------------------\n",
      "Volatile Arguments\n",
      "--------------------\n",
      "--------------------\n",
      "Electronic Conduction Arguments\n",
      "--------------------\n",
      "logfo2\n",
      "--------------------\n",
      "Diffusion Conduction Arguments\n",
      "--------------------\n",
      "--------------------\n",
      "Polymerizing Agent Arguments\n",
      "--------------------\n"
     ]
    }
   ],
   "source": [
    "model.print_required_parameters()"
   ]
  }
 ],
 "metadata": {
  "kernelspec": {
   "display_name": "Python 3 (ipykernel)",
   "language": "python",
   "name": "python3"
  },
  "language_info": {
   "codemirror_mode": {
    "name": "ipython",
    "version": 3
   },
   "file_extension": ".py",
   "mimetype": "text/x-python",
   "name": "python",
   "nbconvert_exporter": "python",
   "pygments_lexer": "ipython3",
   "version": "3.9.19"
  }
 },
 "nbformat": 4,
 "nbformat_minor": 5
}