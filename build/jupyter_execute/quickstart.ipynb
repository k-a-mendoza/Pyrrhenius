{
 "cells": [
  {
   "cell_type": "code",
   "execution_count": 1,
   "id": "b5fb8895",
   "metadata": {
    "execution": {
     "iopub.execute_input": "2024-06-07T21:59:00.225600Z",
     "iopub.status.busy": "2024-06-07T21:59:00.225455Z",
     "iopub.status.idle": "2024-06-07T21:59:00.293626Z",
     "shell.execute_reply": "2024-06-07T21:59:00.292895Z"
    }
   },
   "outputs": [],
   "source": [
    "import numpy as np\n",
    "np.set_printoptions(edgeitems=3, infstr='inf', linewidth=75, nanstr='nan',\n",
    "                   precision=8, suppress=False, threshold=3, formatter=None)"
   ]
  },
  {
   "cell_type": "code",
   "execution_count": 2,
   "id": "d5a7ab54",
   "metadata": {
    "execution": {
     "iopub.execute_input": "2024-06-07T21:59:00.296697Z",
     "iopub.status.busy": "2024-06-07T21:59:00.296453Z",
     "iopub.status.idle": "2024-06-07T21:59:00.567047Z",
     "shell.execute_reply": "2024-06-07T21:59:00.565900Z"
    }
   },
   "outputs": [],
   "source": [
    "import pyrrhenius.database as phsd"
   ]
  },
  {
   "cell_type": "code",
   "execution_count": 3,
   "id": "8a5027fc",
   "metadata": {
    "execution": {
     "iopub.execute_input": "2024-06-07T21:59:00.572134Z",
     "iopub.status.busy": "2024-06-07T21:59:00.571529Z",
     "iopub.status.idle": "2024-06-07T21:59:00.752840Z",
     "shell.execute_reply": "2024-06-07T21:59:00.752394Z"
    }
   },
   "outputs": [],
   "source": [
    "database_location = 'database/publication_database.csv'\n",
    "ecdatabase = phsd.Database(database_location)"
   ]
  },
  {
   "cell_type": "code",
   "execution_count": 4,
   "id": "307f454b",
   "metadata": {
    "execution": {
     "iopub.execute_input": "2024-06-07T21:59:00.755233Z",
     "iopub.status.busy": "2024-06-07T21:59:00.755058Z",
     "iopub.status.idle": "2024-06-07T21:59:00.757885Z",
     "shell.execute_reply": "2024-06-07T21:59:00.757484Z"
    }
   },
   "outputs": [],
   "source": [
    "model = ecdatabase.get_model('SEO3_ol')"
   ]
  },
  {
   "cell_type": "code",
   "execution_count": 5,
   "id": "82d28f71",
   "metadata": {
    "execution": {
     "iopub.execute_input": "2024-06-07T21:59:00.759771Z",
     "iopub.status.busy": "2024-06-07T21:59:00.759616Z",
     "iopub.status.idle": "2024-06-07T21:59:00.762514Z",
     "shell.execute_reply": "2024-06-07T21:59:00.762169Z"
    }
   },
   "outputs": [
    {
     "name": "stdout",
     "output_type": "stream",
     "text": [
      "********************\n",
      "Calculated conductivity (S/m) at T=1000 K, P=1 GPa,and fO2=10^-11 bars:\n",
      "[2.73808615e-05]\n"
     ]
    }
   ],
   "source": [
    "conductivity = model.get_conductivity(T=1000, P=1.0, logfo2=10**-11)\n",
    "print('*'*20)\n",
    "print('Calculated conductivity (S/m) at T=1000 K, P=1 GPa,and fO2=10^-11 bars:')\n",
    "print(conductivity)"
   ]
  },
  {
   "cell_type": "code",
   "execution_count": 6,
   "id": "261dd0f6",
   "metadata": {
    "execution": {
     "iopub.execute_input": "2024-06-07T21:59:00.764532Z",
     "iopub.status.busy": "2024-06-07T21:59:00.764376Z",
     "iopub.status.idle": "2024-06-07T21:59:00.771924Z",
     "shell.execute_reply": "2024-06-07T21:59:00.771162Z"
    }
   },
   "outputs": [
    {
     "name": "stdout",
     "output_type": "stream",
     "text": [
      "(11, 11)\n"
     ]
    },
    {
     "data": {
      "text/plain": [
       "array([[ 500.,  600.,  700., ..., 1300., 1400., 1500.],\n",
       "       [ 500.,  600.,  700., ..., 1300., 1400., 1500.],\n",
       "       [ 500.,  600.,  700., ..., 1300., 1400., 1500.],\n",
       "       ...,\n",
       "       [ 500.,  600.,  700., ..., 1300., 1400., 1500.],\n",
       "       [ 500.,  600.,  700., ..., 1300., 1400., 1500.],\n",
       "       [ 500.,  600.,  700., ..., 1300., 1400., 1500.]])"
      ]
     },
     "execution_count": 6,
     "metadata": {},
     "output_type": "execute_result"
    }
   ],
   "source": [
    "import numpy as np\n",
    "\n",
    "T = np.linspace(500,1500,num=11)\n",
    "z = np.arange(0,11,1) # dummy variable for demonstration purposes only\n",
    "tt, xx = np.meshgrid(T,z)\n",
    "print(tt.shape)\n",
    "tt"
   ]
  },
  {
   "cell_type": "code",
   "execution_count": 7,
   "id": "8bb4ede5",
   "metadata": {
    "execution": {
     "iopub.execute_input": "2024-06-07T21:59:00.774107Z",
     "iopub.status.busy": "2024-06-07T21:59:00.773931Z",
     "iopub.status.idle": "2024-06-07T21:59:00.777546Z",
     "shell.execute_reply": "2024-06-07T21:59:00.777078Z"
    }
   },
   "outputs": [
    {
     "data": {
      "text/plain": [
       "array([[1.06820389e-10, 6.71262242e-09, 1.29536636e-07, ...,\n",
       "        5.52272174e-04, 1.26077070e-03, 2.93431687e-03],\n",
       "       [1.06820389e-10, 6.71262242e-09, 1.29536636e-07, ...,\n",
       "        5.52272174e-04, 1.26077070e-03, 2.93431687e-03],\n",
       "       [1.06820389e-10, 6.71262242e-09, 1.29536636e-07, ...,\n",
       "        5.52272174e-04, 1.26077070e-03, 2.93431687e-03],\n",
       "       ...,\n",
       "       [1.06820389e-10, 6.71262242e-09, 1.29536636e-07, ...,\n",
       "        5.52272174e-04, 1.26077070e-03, 2.93431687e-03],\n",
       "       [1.06820389e-10, 6.71262242e-09, 1.29536636e-07, ...,\n",
       "        5.52272174e-04, 1.26077070e-03, 2.93431687e-03],\n",
       "       [1.06820389e-10, 6.71262242e-09, 1.29536636e-07, ...,\n",
       "        5.52272174e-04, 1.26077070e-03, 2.93431687e-03]])"
      ]
     },
     "execution_count": 7,
     "metadata": {},
     "output_type": "execute_result"
    }
   ],
   "source": [
    "model.get_conductivity(T=tt, P=1.0, logfo2=10**-11)"
   ]
  },
  {
   "cell_type": "code",
   "execution_count": 8,
   "id": "5c212a33",
   "metadata": {
    "execution": {
     "iopub.execute_input": "2024-06-07T21:59:00.779670Z",
     "iopub.status.busy": "2024-06-07T21:59:00.779527Z",
     "iopub.status.idle": "2024-06-07T21:59:00.947178Z",
     "shell.execute_reply": "2024-06-07T21:59:00.946796Z"
    }
   },
   "outputs": [],
   "source": [
    "from pyrrhenius import DEFAULT_DATABASE_PATH\n",
    "import pyrrhenius.database as phsd\n",
    "\n",
    "ecdatabase = phsd.Database(DEFAULT_DATABASE_PATH)"
   ]
  },
  {
   "cell_type": "code",
   "execution_count": 9,
   "id": "80093d88",
   "metadata": {
    "execution": {
     "iopub.execute_input": "2024-06-07T21:59:00.949157Z",
     "iopub.status.busy": "2024-06-07T21:59:00.949018Z",
     "iopub.status.idle": "2024-06-07T21:59:00.953221Z",
     "shell.execute_reply": "2024-06-07T21:59:00.952949Z"
    }
   },
   "outputs": [
    {
     "data": {
      "text/plain": [
       "['basalt',\n",
       " 'basaltic melt',\n",
       " 'brine',\n",
       " 'clinopyroxene',\n",
       " 'gabbro',\n",
       " 'garnet',\n",
       " 'granite',\n",
       " 'granulite',\n",
       " 'olivine',\n",
       " 'omphacite',\n",
       " 'orthopyroxene',\n",
       " 'peridotite',\n",
       " 'pervoskite',\n",
       " 'phlogopite',\n",
       " 'plagioclase',\n",
       " 'schist',\n",
       " 'wadsleyite',\n",
       " 'silicate melt']"
      ]
     },
     "execution_count": 9,
     "metadata": {},
     "output_type": "execute_result"
    }
   ],
   "source": [
    "ecdatabase.get_phases()"
   ]
  },
  {
   "cell_type": "code",
   "execution_count": 10,
   "id": "5b3e9570",
   "metadata": {
    "execution": {
     "iopub.execute_input": "2024-06-07T21:59:00.954855Z",
     "iopub.status.busy": "2024-06-07T21:59:00.954717Z",
     "iopub.status.idle": "2024-06-07T21:59:00.958081Z",
     "shell.execute_reply": "2024-06-07T21:59:00.957752Z"
    }
   },
   "outputs": [
    {
     "data": {
      "text/plain": [
       "['ks_83_granite',\n",
       " 'han_23_HD_granite',\n",
       " 'han_23_QD_low_granite',\n",
       " 'han_23_QD_high_granite',\n",
       " 'han_23_QP_low_granite',\n",
       " 'han_23_QP_high_granite']"
      ]
     },
     "execution_count": 10,
     "metadata": {},
     "output_type": "execute_result"
    }
   ],
   "source": [
    "ecdatabase.get_model_list_for_phase('granite')"
   ]
  },
  {
   "cell_type": "code",
   "execution_count": 11,
   "id": "3d146d3e",
   "metadata": {
    "execution": {
     "iopub.execute_input": "2024-06-07T21:59:00.959720Z",
     "iopub.status.busy": "2024-06-07T21:59:00.959588Z",
     "iopub.status.idle": "2024-06-07T21:59:00.962241Z",
     "shell.execute_reply": "2024-06-07T21:59:00.961965Z"
    }
   },
   "outputs": [
    {
     "data": {
      "text/plain": [
       "han_23_HD_granite:{9.906(nan) exp( -1.22(0.063)/kT)}"
      ]
     },
     "execution_count": 11,
     "metadata": {},
     "output_type": "execute_result"
    }
   ],
   "source": [
    "ecmodel = ecdatabase.get_model('han_23_HD_granite')\n",
    "ecmodel"
   ]
  },
  {
   "cell_type": "code",
   "execution_count": 12,
   "id": "d8388cc5",
   "metadata": {
    "execution": {
     "iopub.execute_input": "2024-06-07T21:59:00.964038Z",
     "iopub.status.busy": "2024-06-07T21:59:00.963901Z",
     "iopub.status.idle": "2024-06-07T21:59:00.993340Z",
     "shell.execute_reply": "2024-06-07T21:59:00.993009Z"
    }
   },
   "outputs": [
    {
     "name": "stdout",
     "output_type": "stream",
     "text": [
      "********************\n",
      "Before Isotropic Calculation\n",
      "********************\n",
      "yang_11a_plag\n",
      "yang_12b_plag[100]\n",
      "yang_12b_plag[010]\n",
      "yang_12b_plag[001]\n",
      "Li_18_dry_plag\n",
      "Li_18_wet_plag\n",
      "********************\n",
      "After Isotropic Calculation\n",
      "********************\n",
      "yang_11a_plag\n",
      "yang_12b_plag[100]\n",
      "yang_12b_plag[010]\n",
      "yang_12b_plag[001]\n",
      "Li_18_dry_plag\n",
      "Li_18_wet_plag\n",
      "isotropic_model:yang_12b_plag[100]+yang_12b_plag[010]+yang_12b_plag[001]\n"
     ]
    }
   ],
   "source": [
    "before_isotropic_calculation = ecdatabase.get_model_list_for_phase('plagioclase')\n",
    "ecdatabase.create_isotropic_models()\n",
    "after_isotropic_calculation = ecdatabase.get_model_list_for_phase('plagioclase')\n",
    "print('*'*20)\n",
    "print('Before Isotropic Calculation')\n",
    "print('*'*20)\n",
    "print(*before_isotropic_calculation,sep='\\n')\n",
    "print('*'*20)\n",
    "print('After Isotropic Calculation')\n",
    "print('*'*20)\n",
    "print(*after_isotropic_calculation,sep='\\n')"
   ]
  },
  {
   "cell_type": "code",
   "execution_count": 13,
   "id": "6b6044d1",
   "metadata": {
    "execution": {
     "iopub.execute_input": "2024-06-07T21:59:00.995062Z",
     "iopub.status.busy": "2024-06-07T21:59:00.994919Z",
     "iopub.status.idle": "2024-06-07T21:59:00.998037Z",
     "shell.execute_reply": "2024-06-07T21:59:00.997778Z"
    }
   },
   "outputs": [
    {
     "data": {
      "text/plain": [
       "array([0.00061567])"
      ]
     },
     "execution_count": 13,
     "metadata": {},
     "output_type": "execute_result"
    }
   ],
   "source": [
    "ecmodel = ecdatabase.get_model('isotropic_model:yang_12b_plag[100]+yang_12b_plag[010]+yang_12b_plag[001]')\n",
    "conductivity = ecmodel.get_conductivity(T=1000, P=1.0)\n",
    "conductivity"
   ]
  },
  {
   "cell_type": "code",
   "execution_count": 14,
   "id": "dcb9258c",
   "metadata": {
    "execution": {
     "iopub.execute_input": "2024-06-07T21:59:00.999571Z",
     "iopub.status.busy": "2024-06-07T21:59:00.999456Z",
     "iopub.status.idle": "2024-06-07T21:59:01.372555Z",
     "shell.execute_reply": "2024-06-07T21:59:01.372127Z"
    }
   },
   "outputs": [
    {
     "name": "stdout",
     "output_type": "stream",
     "text": [
      "HS: [0.01280826] GM:[0.00084664]\n",
      "Plag: [0.00061567] Brine:[0.36]\n"
     ]
    }
   ],
   "source": [
    "import pyrrhenius.mixing as pyhmix\n",
    "\n",
    "brine_id = 'Li_18_1%plg_brine'\n",
    "plag_id = 'isotropic_model:yang_12b_plag[100]+yang_12b_plag[010]+yang_12b_plag[001]'\n",
    "\n",
    "brine_model = ecdatabase.get_model(brine_id)\n",
    "plag_model  = ecdatabase.get_model(plag_id)\n",
    "\n",
    "# The HashinStrikman mixing model needs to be initialized with a matrix and inclusion ecmodel\n",
    "hashinshtrikman_matrix = pyhmix.HashinShtrikmanUpper(plag_model,brine_model)\n",
    "# The Geometric Average model requires intitialization with a phase and phase fraction list.\n",
    "geometric_mixed_matrix = pyhmix.GeomAverage(phases=[brine_model,plag_model],\n",
    "                                            phase_fractions=[0.05,0.95])\n",
    "\n",
    "# Only the HS model in this example requires a provided phase fraction (0.05), positional argument.\n",
    "hs_conductivity = hashinshtrikman_matrix.get_conductivity(0.05,T=1000)\n",
    "gm_conductivity = geometric_mixed_matrix.get_conductivity(T=1000)\n",
    "\n",
    "# Also calculate endmember phase conductivities for comparison\n",
    "plagioclase_conductivity = plag_model.get_conductivity(T=1000)\n",
    "brine_conductivity        = brine_model.get_conductivity(T=1000)\n",
    "\n",
    "print(f'HS: {hs_conductivity} GM:{gm_conductivity}')\n",
    "print(f'Plag: {plagioclase_conductivity} Brine:{brine_conductivity}')"
   ]
  },
  {
   "cell_type": "code",
   "execution_count": 15,
   "id": "0fe5ccb7",
   "metadata": {
    "execution": {
     "iopub.execute_input": "2024-06-07T21:59:01.374417Z",
     "iopub.status.busy": "2024-06-07T21:59:01.374226Z",
     "iopub.status.idle": "2024-06-07T21:59:01.376836Z",
     "shell.execute_reply": "2024-06-07T21:59:01.376545Z"
    }
   },
   "outputs": [
    {
     "data": {
      "text/plain": [
       "isotropic_model:yang_12b_plag[100]+yang_12b_plag[010]+yang_12b_plag[001]\n",
       ":title:None\n",
       "\tauthor:Xiaozhi Yang+Xiaozhi Yang+Xiaozhi Yang\n",
       "\tyear:None\n",
       "\tdoi:None\n",
       "\tphase_type:plagioclase\n",
       "\tdescription:None\n",
       "\tsample_type:None\n",
       "\tequation_form:None\n",
       "\tpublication_id:Yang2012+Yang2012+Yang2012\n",
       "\tcomplete_or_partial_fit:None\n",
       "\tcomposite_or_single:None\n",
       "\tpressure_average:0.1\n",
       "\tpressure_min:None\n",
       "\tpressure_max:None\n",
       "\ttemp_min:473.15\n",
       "\ttemp_max:1073.15\n",
       "\tnacl_min:None\n",
       "\tnacl_max:None\n",
       "\tnacl_average:None\n",
       "\tna2o_min:None\n",
       "\tna2o_max:None\n",
       "\tna2o_average:None\n",
       "\tsio2_min:None\n",
       "\tsio2_max:None\n",
       "\tsio2_average:None\n",
       "\tco2_min:None\n",
       "\tco2_max:None\n",
       "\tco2_average:None\n",
       "\twater_min:95.0\n",
       "\twater_max:110.0\n",
       "\twater_average:102.5\n",
       "\twater_calibration:Johnson and Rossman (2003)\n",
       "\twater_units:ppm\n",
       "\tiron_min:None\n",
       "\tiron_max:None\n",
       "\tiron_average:None\n",
       "\tiron_units:nan\n",
       "\tcrystal_direction:isotropic\n",
       "\tequation:mixture of:yang_12b_plag[100]*yang_12b_plag[010]*yang_12b_plag[001]\n",
       "\tec_model:mixture of:yang_12b_plag[100]*yang_12b_plag[010]*yang_12b_plag[001]"
      ]
     },
     "execution_count": 15,
     "metadata": {},
     "output_type": "execute_result"
    }
   ],
   "source": [
    "plag_model.metadata"
   ]
  },
  {
   "cell_type": "code",
   "execution_count": 16,
   "id": "1bded408",
   "metadata": {
    "execution": {
     "iopub.execute_input": "2024-06-07T21:59:01.378526Z",
     "iopub.status.busy": "2024-06-07T21:59:01.378387Z",
     "iopub.status.idle": "2024-06-07T21:59:01.380963Z",
     "shell.execute_reply": "2024-06-07T21:59:01.380664Z"
    }
   },
   "outputs": [
    {
     "data": {
      "text/plain": [
       "{'T': array([ 473.15, 1073.15])}"
      ]
     },
     "execution_count": 16,
     "metadata": {},
     "output_type": "execute_result"
    }
   ],
   "source": [
    "plag_model.generate_representative_conditions()"
   ]
  },
  {
   "cell_type": "code",
   "execution_count": 17,
   "id": "03135466",
   "metadata": {
    "execution": {
     "iopub.execute_input": "2024-06-07T21:59:01.382655Z",
     "iopub.status.busy": "2024-06-07T21:59:01.382513Z",
     "iopub.status.idle": "2024-06-07T21:59:01.385088Z",
     "shell.execute_reply": "2024-06-07T21:59:01.384784Z"
    }
   },
   "outputs": [
    {
     "data": {
      "text/plain": [
       "array([4.40250906e-11, 1.68569100e-03])"
      ]
     },
     "execution_count": 17,
     "metadata": {},
     "output_type": "execute_result"
    }
   ],
   "source": [
    "condition_dict = plag_model.generate_representative_conditions()\n",
    "plag_model.get_conductivity(**condition_dict)"
   ]
  },
  {
   "cell_type": "code",
   "execution_count": 18,
   "id": "61863a0e",
   "metadata": {
    "execution": {
     "iopub.execute_input": "2024-06-07T21:59:01.386765Z",
     "iopub.status.busy": "2024-06-07T21:59:01.386624Z",
     "iopub.status.idle": "2024-06-07T21:59:02.456092Z",
     "shell.execute_reply": "2024-06-07T21:59:02.455740Z"
    }
   },
   "outputs": [
    {
     "name": "stderr",
     "output_type": "stream",
     "text": [
      "/var/folders/5h/95y6jy4s2pb02h07pf5q7dgc0000gn/T/ipykernel_4530/3390103688.py:44: UserWarning: FigureCanvasAgg is non-interactive, and thus cannot be shown\n",
      "  fig.show()\n"
     ]
    },
    {
     "data": {
      "image/png": "[encoded data removed]",
      "text/plain": [
       "<Figure size 640x480 with 2 Axes>"
      ]
     },
     "metadata": {
      "filenames": {
       "image/png": "/Volumes/MT_RESEARCH/2D_Petrology/mineral_conductivity/mineralconductivities/build/jupyter_execute/quickstart_17_1.png"
      }
     },
     "output_type": "display_data"
    }
   ],
   "source": [
    "import matplotlib.pyplot as plt\n",
    "import numpy as np\n",
    "import pyrrhenius.mixing as pyhmix\n",
    "import pyrrhenius.database as phsd\n",
    "import pyrrhenius.utils as pyhutils\n",
    "from pyrrhenius import DEFAULT_DATABASE_PATH\n",
    "\n",
    "\n",
    "ecdatabase = phsd.Database(DEFAULT_DATABASE_PATH)\n",
    "\n",
    "# endmember models\n",
    "brine_id = 'Li_18_1%plg_brine'\n",
    "plag_id = 'Li_18_wet_plag'\n",
    "\n",
    "brine_model = ecdatabase.get_model(brine_id)\n",
    "plag_model  = ecdatabase.get_model(plag_id)\n",
    "\n",
    "# The HashinStrikman mixing model needs to be initialized with a matrix and inclusion ecmodel\n",
    "hashinshtrikman_matrix = pyhmix.HashinShtrikmanUpper(plag_model,brine_model)\n",
    "\n",
    "# provide a range of temperature conditions at which to evaluate the models\n",
    "T = np.linspace(400,1200,num=120)\n",
    "\n",
    "# Only the HS model in this example requires a provided phase fraction (0.05), positional argument.\n",
    "hs_5pct = hashinshtrikman_matrix.get_conductivity(0.05,T=T)\n",
    "hs_1pct = hashinshtrikman_matrix.get_conductivity(0.01,T=T)\n",
    "\n",
    "# Also calculate endmember phase conductivities for comparison\n",
    "plagioclase_conductivity = plag_model.get_conductivity(T=T)\n",
    "brine_conductivity        = brine_model.get_conductivity(T=T)\n",
    "\n",
    "# set up matplotlib plotting\n",
    "\n",
    "fig, ax = plt.subplots()\n",
    "linear_major_ticks = np.asarray([2000,1400,1100,900,800,700,600,500,400])\n",
    "pyhutils.format_ax_arrhenian_space(ax,linear_major_ticks=linear_major_ticks)\n",
    "\n",
    "ax.plot(1e4/T,plagioclase_conductivity,color='purple',label='Li et al., (2018) Plagioclase')\n",
    "ax.plot(1e4/T,brine_conductivity,color='orange',label='Li et al., (2018) 1% NaCl Plagioclase-Equilibrated Brine')\n",
    "ax.plot(1e4/T,hs_1pct,color='blue',label='Li et al., (2018) 1% NaCl, 1% Vol Plagioclase-Equilibrated Brine',linestyle=':')\n",
    "ax.plot(1e4/T,hs_5pct,color='blue',label='Li et al., (2018) 1% NaCl, 5% Vol Plagioclase-Equilibrated Brine',linestyle='--')\n",
    "ax.set_title('A Plagioclase, Brine, and two HS mixed Plag-Brine Models')\n",
    "ax.legend()\n",
    "fig.show()"
   ]
  }
 ],
 "metadata": {
  "kernelspec": {
   "display_name": "Python 3 (ipykernel)",
   "language": "python",
   "name": "python3"
  },
  "language_info": {
   "codemirror_mode": {
    "name": "ipython",
    "version": 3
   },
   "file_extension": ".py",
   "mimetype": "text/x-python",
   "name": "python",
   "nbconvert_exporter": "python",
   "pygments_lexer": "ipython3",
   "version": "3.9.19"
  }
 },
 "nbformat": 4,
 "nbformat_minor": 5
}