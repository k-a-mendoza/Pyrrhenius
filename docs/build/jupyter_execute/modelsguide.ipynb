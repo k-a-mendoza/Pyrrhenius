{
 "cells": [
  {
   "cell_type": "code",
   "execution_count": 1,
   "id": "45d6d4ba",
   "metadata": {
    "execution": {
     "iopub.execute_input": "2024-09-05T18:00:45.731423Z",
     "iopub.status.busy": "2024-09-05T18:00:45.730936Z",
     "iopub.status.idle": "2024-09-05T18:00:46.227312Z",
     "shell.execute_reply": "2024-09-05T18:00:46.226893Z"
    }
   },
   "outputs": [],
   "source": [
    "import numpy as np\n",
    "np.set_printoptions(edgeitems=3, infstr='inf', linewidth=75, nanstr='nan',\n",
    "                   precision=8, suppress=False, threshold=3, formatter=None)\n",
    "\n",
    "import pyrrhenius.database as phsd\n",
    "\n",
    "ecdatabase = phsd.Database()"
   ]
  },
  {
   "cell_type": "code",
   "execution_count": 2,
   "id": "8ca7393d",
   "metadata": {
    "execution": {
     "iopub.execute_input": "2024-09-05T18:00:46.229476Z",
     "iopub.status.busy": "2024-09-05T18:00:46.229319Z",
     "iopub.status.idle": "2024-09-05T18:00:46.233341Z",
     "shell.execute_reply": "2024-09-05T18:00:46.232985Z"
    }
   },
   "outputs": [
    {
     "name": "stdout",
     "output_type": "stream",
     "text": [
      "nv_17_ol[010]:{1.8e+42(nan) Cw * 10^-5.0(0.9) * exp(1.782654381(0.196921123)/kT)/kT}\n",
      "SEO3_ol:{e*(5.06e+24(nan) exp( -0.357(nan)/kT) 3.33e+24(nan) exp( -0.02(nan)/kT) fO2^0.166667(nan))*1.22e-05(nan) exp( -1.05(nan)/kT) + e*(4.58e+26(nan) exp( -0.752(nan)/kT) 6.209999999999999e+30(nan) exp( -1.83(nan)/kT) fO2^0.166666667(nan))*5.44e-06(nan) exp( -1.09(nan)/kT)}\n",
      "nan bell (2003)\n",
      "nan ppm\n",
      "nan nan\n",
      "nan bell (2003)\n",
      "nan ppm\n",
      "nan nan\n",
      "nan bell (2003)\n",
      "nan ppm\n",
      "nan nan\n",
      "{nv_17_ol[010]+SEO3_ol}\n"
     ]
    }
   ],
   "source": [
    "nv17HD  = ecdatabase.get_model('nv_17_ol[010]') # Novella et al. 2017's hydrogen diffusion equation\n",
    "print(nv17HD)\n",
    "\n",
    "seo3dry =  ecdatabase.get_model('SEO3_ol') # Constable et al. 2006's dry olivine equation\n",
    "print(seo3dry)\n",
    "\n",
    "combined = nv17HD+seo3dry\n",
    "print(combined)"
   ]
  },
  {
   "cell_type": "code",
   "execution_count": 3,
   "id": "a2337a26",
   "metadata": {
    "execution": {
     "iopub.execute_input": "2024-09-05T18:00:46.235402Z",
     "iopub.status.busy": "2024-09-05T18:00:46.235285Z",
     "iopub.status.idle": "2024-09-05T18:00:46.239568Z",
     "shell.execute_reply": "2024-09-05T18:00:46.239232Z"
    }
   },
   "outputs": [
    {
     "data": {
      "text/plain": [
       "2.7380861532827377e-05"
      ]
     },
     "execution_count": 3,
     "metadata": {},
     "output_type": "execute_result"
    }
   ],
   "source": [
    "model = ecdatabase.get_model('SEO3_ol')\n",
    "model.get_conductivity(T=1000, P=1.0, logfo2=10**-11)"
   ]
  },
  {
   "cell_type": "code",
   "execution_count": 4,
   "id": "1af6d08e",
   "metadata": {
    "execution": {
     "iopub.execute_input": "2024-09-05T18:00:46.241272Z",
     "iopub.status.busy": "2024-09-05T18:00:46.241140Z",
     "iopub.status.idle": "2024-09-05T18:00:46.244281Z",
     "shell.execute_reply": "2024-09-05T18:00:46.243972Z"
    }
   },
   "outputs": [
    {
     "name": "stdout",
     "output_type": "stream",
     "text": [
      "(4,)\n"
     ]
    },
    {
     "data": {
      "text/plain": [
       "array([1.29536636e-07, 1.29536636e-07, 1.29536636e-07, 1.29536636e-07])"
      ]
     },
     "execution_count": 4,
     "metadata": {},
     "output_type": "execute_result"
    }
   ],
   "source": [
    "T = np.ones(4)*700 # in degrees K\n",
    "print(T.shape)\n",
    "model.get_conductivity(T=T, P=1.0, logfo2=10**-11)"
   ]
  },
  {
   "cell_type": "code",
   "execution_count": 5,
   "id": "6bdc8b3a",
   "metadata": {
    "execution": {
     "iopub.execute_input": "2024-09-05T18:00:46.246122Z",
     "iopub.status.busy": "2024-09-05T18:00:46.246010Z",
     "iopub.status.idle": "2024-09-05T18:00:46.249161Z",
     "shell.execute_reply": "2024-09-05T18:00:46.248874Z"
    }
   },
   "outputs": [
    {
     "name": "stdout",
     "output_type": "stream",
     "text": [
      "(4, 4)\n"
     ]
    },
    {
     "data": {
      "text/plain": [
       "array([[1.29536636e-07, 1.29536636e-07, 1.29536636e-07, 1.29536636e-07],\n",
       "       [1.29536636e-07, 1.29536636e-07, 1.29536636e-07, 1.29536636e-07],\n",
       "       [1.29536636e-07, 1.29536636e-07, 1.29536636e-07, 1.29536636e-07],\n",
       "       [1.29536636e-07, 1.29536636e-07, 1.29536636e-07, 1.29536636e-07]])"
      ]
     },
     "execution_count": 5,
     "metadata": {},
     "output_type": "execute_result"
    }
   ],
   "source": [
    "T = np.ones((4,4))*700 # in degrees K\n",
    "print(T.shape)\n",
    "model.get_conductivity(T=T, P=1.0, logfo2=10**-11)"
   ]
  },
  {
   "cell_type": "code",
   "execution_count": 6,
   "id": "9beb9a4f",
   "metadata": {
    "execution": {
     "iopub.execute_input": "2024-09-05T18:00:46.251099Z",
     "iopub.status.busy": "2024-09-05T18:00:46.250949Z",
     "iopub.status.idle": "2024-09-05T18:00:46.253051Z",
     "shell.execute_reply": "2024-09-05T18:00:46.252757Z"
    }
   },
   "outputs": [
    {
     "name": "stdout",
     "output_type": "stream",
     "text": [
      "logfo2 not provided. Pass logfo2 as a keyword-argument\n"
     ]
    }
   ],
   "source": [
    "try:\n",
    "    model.get_conductivity(T=T)\n",
    "except AssertionError as e:\n",
    "    print(e)"
   ]
  },
  {
   "cell_type": "code",
   "execution_count": 7,
   "id": "99d4b3f1",
   "metadata": {
    "execution": {
     "iopub.execute_input": "2024-09-05T18:00:46.254704Z",
     "iopub.status.busy": "2024-09-05T18:00:46.254568Z",
     "iopub.status.idle": "2024-09-05T18:00:46.256548Z",
     "shell.execute_reply": "2024-09-05T18:00:46.256252Z"
    }
   },
   "outputs": [
    {
     "name": "stdout",
     "output_type": "stream",
     "text": [
      "********************\n",
      "Required Keywords\n",
      "********************\n",
      "\n",
      "Intrinsic Arguments\n",
      "--------------------\n",
      "\n",
      "Volatile Arguments\n",
      "--------------------\n",
      "\n",
      "Electronic Conduction Arguments\n",
      "--------------------\n",
      "*logfo2\n",
      "\n",
      "Diffusion Conduction Arguments\n",
      "--------------------\n",
      "\n",
      "Polymerizing Agent Arguments\n",
      "--------------------\n"
     ]
    }
   ],
   "source": [
    "model.print_required_parameters()"
   ]
  },
  {
   "cell_type": "code",
   "execution_count": 8,
   "id": "a84c947c",
   "metadata": {
    "execution": {
     "iopub.execute_input": "2024-09-05T18:00:46.258196Z",
     "iopub.status.busy": "2024-09-05T18:00:46.258065Z",
     "iopub.status.idle": "2024-09-05T18:00:46.413004Z",
     "shell.execute_reply": "2024-09-05T18:00:46.412668Z"
    }
   },
   "outputs": [
    {
     "data": {
      "text/plain": [
       "['SEO2_ol',\n",
       " 'xu_2000_ol[001]',\n",
       " 'xu_2000_ol[010]',\n",
       " 'xu_2000_ol[100]',\n",
       " 'xu_2000_poly_ol',\n",
       " 'dF_05_ol[100]',\n",
       " 'dF_05_ol[010]',\n",
       " 'dF_05_ol[001]',\n",
       " 'SEO3_ol',\n",
       " 'wang_06_ol',\n",
       " 'dk_2009_ol',\n",
       " 'ty_09_dry_ol',\n",
       " 'ty_09_ol',\n",
       " 'ty_12_ol',\n",
       " 'yang_12b_ol[100]',\n",
       " 'yang_12b_ol[010]',\n",
       " 'yang_12b_ol[001]',\n",
       " 'gar_14_bell_ol[100]',\n",
       " 'gar_14_bell_ol[010]',\n",
       " 'gar_14_bell_ol[001]',\n",
       " 'gar_14_withers_ol[100]',\n",
       " 'gar_14_withers_ol[010]',\n",
       " 'gar_14_withers_ol[001]',\n",
       " 'y_16_ol[100]',\n",
       " 'y_16_ol[010]',\n",
       " 'y_16_ol[001]',\n",
       " 'nv_17_ol[100]',\n",
       " 'nv_17_ol[010]',\n",
       " 'nv_17_ol[001]',\n",
       " 'sun_19ol[100]',\n",
       " 'sun_19ol[001]',\n",
       " 'fei_20_ol[100]',\n",
       " 'fei_20_ol[010]',\n",
       " 'fei_20_ol[001]',\n",
       " 'fei_20_ol_ionic[100]',\n",
       " 'fei_20_ol_ionic[010]',\n",
       " 'fei_20_ol_ionic[001]']"
      ]
     },
     "execution_count": 8,
     "metadata": {},
     "output_type": "execute_result"
    }
   ],
   "source": [
    "import pyrrhenius.database as phsd\n",
    "\n",
    "ecdatabase = phsd.Database()\n",
    "\n",
    "ecdatabase.get_model_list_for_phase('olivine')"
   ]
  },
  {
   "cell_type": "code",
   "execution_count": 9,
   "id": "56714592",
   "metadata": {
    "execution": {
     "iopub.execute_input": "2024-09-05T18:00:46.414785Z",
     "iopub.status.busy": "2024-09-05T18:00:46.414650Z",
     "iopub.status.idle": "2024-09-05T18:00:47.247121Z",
     "shell.execute_reply": "2024-09-05T18:00:47.246701Z"
    }
   },
   "outputs": [
    {
     "name": "stderr",
     "output_type": "stream",
     "text": [
      "/var/folders/5h/95y6jy4s2pb02h07pf5q7dgc0000gn/T/ipykernel_99464/3634801195.py:24: UserWarning: FigureCanvasAgg is non-interactive, and thus cannot be shown\n",
      "  fig.show()\n"
     ]
    },
    {
     "data": {
      "image/png": "[encoded data removed]",
      "text/plain": [
       "<Figure size 640x480 with 2 Axes>"
      ]
     },
     "metadata": {
      "filenames": {
       "image/png": "/Volumes/X9 Pro/Recovered Data  - EXFAT/MT_RESEARCH/2D_Petrology/mineral_conductivity/mineralconductivities/docs/build/jupyter_execute/modelsguide_8_1.png"
      }
     },
     "output_type": "display_data"
    }
   ],
   "source": [
    "import matplotlib.pyplot as plt\n",
    "import numpy as np\n",
    "import pyrrhenius.database as phsd\n",
    "import pyrrhenius.utils as pyhutils\n",
    "\n",
    "ecdatabase = phsd.Database()\n",
    "\n",
    "models = ['fei_20_ol[100]','fei_20_ol[010]', 'fei_20_ol[001]']\n",
    "\n",
    "\n",
    "T = np.linspace(400,1800,num=120) # temperature in kelvin\n",
    "\n",
    "fig, ax = plt.subplots()\n",
    "linear_major_ticks = np.asarray([2000,1400,1100,900,800,700,600,500,400])\n",
    "pyhutils.format_ax_arrhenian_space(ax,linear_major_ticks=linear_major_ticks,xlim=[5,10])\n",
    "Cw = 100 # 100 ppm water\n",
    "P = 3 # 3 GPa\n",
    "for model_id in models:\n",
    "    ecmodel = ecdatabase.get_model(model_id)\n",
    "    c = ecmodel.get_conductivity(T=T,Cw=Cw,P=P)\n",
    "    ax.plot(1e4/T,c,label=model_id)\n",
    "ax.legend()\n",
    "ax.set_ylim([1e-4,1e-1])\n",
    "fig.show()"
   ]
  },
  {
   "cell_type": "code",
   "execution_count": 10,
   "id": "f99e465a",
   "metadata": {
    "execution": {
     "iopub.execute_input": "2024-09-05T18:00:47.249083Z",
     "iopub.status.busy": "2024-09-05T18:00:47.248906Z",
     "iopub.status.idle": "2024-09-05T18:00:47.433973Z",
     "shell.execute_reply": "2024-09-05T18:00:47.433581Z"
    }
   },
   "outputs": [
    {
     "name": "stdout",
     "output_type": "stream",
     "text": [
      "nan nan\n",
      "nan nan\n",
      "nan nan\n",
      "nan nan\n",
      "nan nan\n",
      "nan nan\n",
      "nan nan\n",
      "nan nan\n",
      "nan nan\n",
      "nan nan\n",
      "nan nan\n",
      "nan nan\n",
      "nan nan\n",
      "nan nan\n",
      "nan nan\n",
      "nan nan\n",
      "nan nan\n",
      "nan nan\n",
      "withers (2012) withers (2012)\n",
      "ppm ppm\n",
      "nan nan\n",
      "withers (2012) withers (2012)\n",
      "ppm ppm\n",
      "nan nan\n",
      "withers (2012) withers (2012)\n",
      "ppm ppm\n",
      "nan nan\n",
      "withers (2012) withers (2012)\n",
      "ppm ppm\n",
      "nan nan\n",
      "withers (2012) withers (2012)\n",
      "ppm ppm\n",
      "nan nan\n",
      "withers (2012) withers (2012)\n",
      "ppm ppm\n",
      "nan nan\n",
      "withers (2012) withers (2012)\n",
      "ppm ppm\n",
      "nan nan\n",
      "withers (2012) withers (2012)\n",
      "ppm ppm\n",
      "nan nan\n",
      "withers (2012) withers (2012)\n",
      "ppm ppm\n",
      "nan nan\n",
      "withers (2012) withers (2012)\n",
      "ppm ppm\n",
      "nan nan\n",
      "withers (2012) withers (2012)\n",
      "ppm ppm\n",
      "nan nan\n",
      "withers (2012) withers (2012)\n",
      "ppm ppm\n",
      "nan nan\n",
      "withers (2012) withers (2012)\n",
      "ppm ppm\n",
      "nan nan\n",
      "withers (2012) withers (2012)\n",
      "ppm ppm\n",
      "nan nan\n",
      "withers (2012) withers (2012)\n",
      "ppm ppm\n",
      "nan nan\n",
      "withers (2012) withers (2012)\n",
      "ppm ppm\n",
      "nan nan\n",
      "withers (2012) withers (2012)\n",
      "ppm ppm\n",
      "nan nan\n",
      "withers (2012) withers (2012)\n",
      "ppm ppm\n",
      "nan nan\n",
      "withers (2012) withers (2012)\n",
      "ppm ppm\n",
      "nan nan\n",
      "withers (2012) withers (2012)\n",
      "ppm ppm\n",
      "nan nan\n",
      "withers (2012) withers (2012)\n",
      "ppm ppm\n",
      "nan nan\n",
      "withers (2012) withers (2012)\n",
      "ppm ppm\n",
      "nan nan\n",
      "withers (2012) withers (2012)\n",
      "ppm ppm\n",
      "nan nan\n",
      "withers (2012) withers (2012)\n",
      "ppm ppm\n",
      "nan nan\n",
      "nan nan\n",
      "nan nan\n",
      "nan nan\n",
      "nan nan\n",
      "nan nan\n",
      "nan nan\n",
      "nan nan\n",
      "nan nan\n",
      "nan nan\n",
      "nan nan\n",
      "nan nan\n",
      "nan nan\n",
      "nan nan\n",
      "nan nan\n",
      "nan nan\n",
      "nan nan\n",
      "nan nan\n",
      "nan nan\n",
      "nan nan\n",
      "nan nan\n",
      "nan nan\n",
      "nan nan\n",
      "nan nan\n",
      "nan nan\n",
      "nan nan\n",
      "nan nan\n",
      "nan nan\n",
      "bell (2003) bell (2003)\n",
      "ppm ppm\n",
      "nan nan\n",
      "bell (2003) bell (2003)\n",
      "ppm ppm\n",
      "nan nan\n",
      "bell (2003) bell (2003)\n",
      "ppm ppm\n",
      "nan nan\n",
      "bell (2003) bell (2003)\n",
      "ppm ppm\n",
      "nan nan\n",
      "bell (2003) bell (2003)\n",
      "ppm ppm\n",
      "nan nan\n",
      "bell (2003) bell (2003)\n",
      "ppm ppm\n",
      "nan nan\n",
      "paterson (1982) paterson (1982)\n",
      "wtpct wtpct\n",
      "nan nan\n",
      "paterson (1982) paterson (1982)\n",
      "wtpct wtpct\n",
      "nan nan\n",
      "paterson (1982) paterson (1982)\n",
      "wtpct wtpct\n",
      "nan nan\n",
      "paterson (1982) paterson (1982)\n",
      "wtpct wtpct\n",
      "nan nan\n",
      "paterson (1982) paterson (1982)\n",
      "wtpct wtpct\n",
      "nan nan\n",
      "paterson (1982) paterson (1982)\n",
      "wtpct wtpct\n",
      "nan nan\n",
      "paterson (1982) paterson (1982)\n",
      "ppm ppm\n",
      "nan nan\n",
      "paterson (1982) paterson (1982)\n",
      "ppm ppm\n",
      "nan nan\n",
      "paterson (1982) paterson (1982)\n",
      "ppm ppm\n",
      "nan nan\n",
      "nan nan\n",
      "nan nan\n",
      "nan nan\n",
      "nan nan\n",
      "nan nan\n",
      "nan nan\n",
      "nan nan\n",
      "nan nan\n",
      "nan nan\n",
      "nan nan\n",
      "nan nan\n",
      "nan nan\n",
      "nan nan\n",
      "nan nan\n",
      "nan nan\n",
      "nan nan\n",
      "nan nan\n",
      "nan nan\n",
      "Libowitzky and rossman (1996) Libowitzky and rossman (1996)\n",
      "wtpct wtpct\n",
      "nan nan\n",
      "Libowitzky and rossman (1996) Libowitzky and rossman (1996)\n",
      "wtpct wtpct\n",
      "nan nan\n",
      "Libowitzky and rossman (1996) Libowitzky and rossman (1996)\n",
      "wtpct wtpct\n",
      "nan nan\n",
      "Libowitzky and rossman (1996) Libowitzky and rossman (1996)\n",
      "wtpct wtpct\n",
      "nan nan\n",
      "Libowitzky and rossman (1996) Libowitzky and rossman (1996)\n",
      "wtpct wtpct\n",
      "nan nan\n",
      "Libowitzky and rossman (1996) Libowitzky and rossman (1996)\n",
      "wtpct wtpct\n",
      "nan nan\n",
      "nan nan\n",
      "nan nan\n",
      "nan nan\n",
      "nan nan\n",
      "nan nan\n",
      "nan nan\n",
      "nan nan\n",
      "nan nan\n",
      "nan nan\n",
      "nan nan\n",
      "nan nan\n",
      "nan nan\n",
      "nan nan\n",
      "nan nan\n",
      "nan nan\n",
      "nan nan\n",
      "nan nan\n",
      "nan nan\n",
      "bell (1995) bell (1995)\n",
      "ppm ppm\n",
      "nan nan\n",
      "bell (1995) bell (1995)\n",
      "ppm ppm\n",
      "nan nan\n",
      "bell (1995) bell (1995)\n",
      "ppm ppm\n",
      "nan nan\n",
      "bell (1995) bell (1995)\n",
      "ppm ppm\n",
      "nan nan\n",
      "bell (1995) bell (1995)\n",
      "ppm ppm\n",
      "nan nan\n",
      "bell (1995) bell (1995)\n",
      "ppm ppm\n",
      "nan nan\n",
      "bell (2003) bell (2003)\n",
      "ppm ppm\n",
      "nan nan\n",
      "bell (2003) bell (2003)\n",
      "ppm ppm\n",
      "nan nan\n",
      "bell (2003) bell (2003)\n",
      "ppm ppm\n",
      "nan nan\n",
      "bell (2003) bell (2003)\n",
      "ppm ppm\n",
      "nan nan\n",
      "bell (2003) bell (2003)\n",
      "ppm ppm\n",
      "nan nan\n",
      "bell (2003) bell (2003)\n",
      "ppm ppm\n",
      "nan nan\n",
      "Johnson and Rossman (2003) Johnson and Rossman (2003)\n",
      "ppm ppm\n",
      "nan nan\n",
      "Johnson and Rossman (2003) Johnson and Rossman (2003)\n",
      "ppm ppm\n",
      "nan nan\n",
      "Johnson and Rossman (2003) Johnson and Rossman (2003)\n",
      "ppm ppm\n",
      "nan nan\n",
      "Johnson and Rossman (2003) Johnson and Rossman (2003)\n",
      "ppm ppm\n",
      "nan nan\n",
      "Johnson and Rossman (2003) Johnson and Rossman (2003)\n",
      "ppm ppm\n",
      "nan nan\n",
      "Johnson and Rossman (2003) Johnson and Rossman (2003)\n",
      "ppm ppm\n",
      "nan nan\n"
     ]
    },
    {
     "data": {
      "text/plain": [
       "['fei_20_ol_ionic[010]',\n",
       " 'fei_20_ol_ionic[001]',\n",
       " 'isotropic_model:dF_05_ol[100]+dF_05_ol[010]+dF_05_ol[001]',\n",
       " 'isotropic_model:fei_20_ol[100]+fei_20_ol[010]+fei_20_ol[001]',\n",
       " 'isotropic_model:fei_20_ol_ionic[100]+fei_20_ol_ionic[010]+fei_20_ol_ionic[001]',\n",
       " 'isotropic_model:gar_14_bell_ol[100]+gar_14_bell_ol[010]+gar_14_bell_ol[001]',\n",
       " 'isotropic_model:gar_14_withers_ol[100]+gar_14_withers_ol[010]+gar_14_withers_ol[001]',\n",
       " 'isotropic_model:nv_17_ol[100]+nv_17_ol[010]+nv_17_ol[001]',\n",
       " 'isotropic_model:sun_19ol[100]+sun_19ol[001]',\n",
       " 'isotropic_model:xu_2000_ol[001]+xu_2000_ol[010]+xu_2000_ol[100]',\n",
       " 'isotropic_model:y_16_ol[100]+y_16_ol[010]+y_16_ol[001]',\n",
       " 'isotropic_model:yang_12b_ol[100]+yang_12b_ol[010]+yang_12b_ol[001]']"
      ]
     },
     "execution_count": 10,
     "metadata": {},
     "output_type": "execute_result"
    }
   ],
   "source": [
    "ecdatabase = phsd.Database()\n",
    "ecdatabase.create_isotropic_models()\n",
    "ecdatabase.get_model_list_for_phase('olivine')[-12:]"
   ]
  },
  {
   "cell_type": "code",
   "execution_count": 11,
   "id": "48cd4c83",
   "metadata": {
    "execution": {
     "iopub.execute_input": "2024-09-05T18:00:47.435914Z",
     "iopub.status.busy": "2024-09-05T18:00:47.435759Z",
     "iopub.status.idle": "2024-09-05T18:00:47.769193Z",
     "shell.execute_reply": "2024-09-05T18:00:47.768826Z"
    }
   },
   "outputs": [
    {
     "name": "stderr",
     "output_type": "stream",
     "text": [
      "/var/folders/5h/95y6jy4s2pb02h07pf5q7dgc0000gn/T/ipykernel_99464/348446302.py:17: UserWarning: FigureCanvasAgg is non-interactive, and thus cannot be shown\n",
      "  fig.show()\n"
     ]
    },
    {
     "data": {
      "image/png": "[encoded data removed]",
      "text/plain": [
       "<Figure size 640x480 with 2 Axes>"
      ]
     },
     "metadata": {
      "filenames": {
       "image/png": "/Volumes/X9 Pro/Recovered Data  - EXFAT/MT_RESEARCH/2D_Petrology/mineral_conductivity/mineralconductivities/docs/build/jupyter_execute/modelsguide_10_1.png"
      }
     },
     "output_type": "display_data"
    }
   ],
   "source": [
    "fig, ax = plt.subplots()\n",
    "linear_major_ticks = np.asarray([2000,1400,1100,900,800,700,600,500,400])\n",
    "pyhutils.format_ax_arrhenian_space(ax,linear_major_ticks=linear_major_ticks,xlim=[5,10])\n",
    "Cw = 100 # 100 ppm water\n",
    "P = 3 # 3 GPa\n",
    "for model_id in models:\n",
    "    ecmodel = ecdatabase.get_model(model_id)\n",
    "    c = ecmodel.get_conductivity(T=T,Cw=Cw,P=P)\n",
    "    ax.plot(1e4/T,c,label=model_id)\n",
    "\n",
    "isotropic_model_id = 'isotropic_model:fei_20_ol[100]+fei_20_ol[010]+fei_20_ol[001]'\n",
    "ecmodel = ecdatabase.get_model(isotropic_model_id)\n",
    "c = ecmodel.get_conductivity(T=T,Cw=Cw,P=P)\n",
    "ax.plot(1e4/T,c,label=model_id,linestyle='--',color='blue')\n",
    "ax.legend()\n",
    "ax.set_ylim([1e-4,1e-1])\n",
    "fig.show()"
   ]
  },
  {
   "cell_type": "code",
   "execution_count": 12,
   "id": "e42bd3b6",
   "metadata": {
    "execution": {
     "iopub.execute_input": "2024-09-05T18:00:47.771110Z",
     "iopub.status.busy": "2024-09-05T18:00:47.770955Z",
     "iopub.status.idle": "2024-09-05T18:00:47.774476Z",
     "shell.execute_reply": "2024-09-05T18:00:47.774159Z"
    }
   },
   "outputs": [
    {
     "data": {
      "text/plain": [
       "array([0., 0., 0., ..., 0., 0., 0.])"
      ]
     },
     "execution_count": 12,
     "metadata": {},
     "output_type": "execute_result"
    }
   ],
   "source": [
    "Cw = 100 # 100 ppm water\n",
    "P = 3 # 3 GPa\n",
    "T = np.linspace(1000,1500,num=10)\n",
    "physiokwargs = {'Cw':Cw,'P':P,'T':T}\n",
    "conductivity = ecmodel.get_conductivity(**physiokwargs)\n",
    "conductivity"
   ]
  },
  {
   "cell_type": "code",
   "execution_count": 13,
   "id": "24f60a04",
   "metadata": {
    "execution": {
     "iopub.execute_input": "2024-09-05T18:00:47.776476Z",
     "iopub.status.busy": "2024-09-05T18:00:47.776350Z",
     "iopub.status.idle": "2024-09-05T18:00:47.779479Z",
     "shell.execute_reply": "2024-09-05T18:00:47.779123Z"
    }
   },
   "outputs": [
    {
     "data": {
      "text/plain": [
       "array([2.40550310e-05, 5.85447366e-05, 1.30385620e-04, ...,\n",
       "       2.92689511e-03, 5.07132817e-03, 9.06025978e-03])"
      ]
     },
     "execution_count": 13,
     "metadata": {},
     "output_type": "execute_result"
    }
   ],
   "source": [
    "conductivity = ecmodel.get_conductivity(averaging='max_aniso',**physiokwargs)\n",
    "conductivity"
   ]
  },
  {
   "cell_type": "code",
   "execution_count": 14,
   "id": "99240667",
   "metadata": {
    "execution": {
     "iopub.execute_input": "2024-09-05T18:00:47.781553Z",
     "iopub.status.busy": "2024-09-05T18:00:47.781372Z",
     "iopub.status.idle": "2024-09-05T18:00:47.785210Z",
     "shell.execute_reply": "2024-09-05T18:00:47.784765Z"
    }
   },
   "outputs": [
    {
     "data": {
      "text/plain": [
       "array([1.85038547e-06, 5.17375901e-06, 1.30593207e-05, ...,\n",
       "       5.02547241e-04, 9.90020304e-04, 2.03826257e-03])"
      ]
     },
     "execution_count": 14,
     "metadata": {},
     "output_type": "execute_result"
    }
   ],
   "source": [
    "conductivity = ecmodel.get_conductivity(averaging='min_aniso',**physiokwargs)\n",
    "conductivity"
   ]
  },
  {
   "cell_type": "code",
   "execution_count": 15,
   "id": "3072b82c",
   "metadata": {
    "execution": {
     "iopub.execute_input": "2024-09-05T18:00:47.786939Z",
     "iopub.status.busy": "2024-09-05T18:00:47.786820Z",
     "iopub.status.idle": "2024-09-05T18:00:47.789808Z",
     "shell.execute_reply": "2024-09-05T18:00:47.789515Z"
    }
   },
   "outputs": [
    {
     "data": {
      "text/plain": [
       "array([1.95144667e-05, 4.13284124e-05, 8.12541700e-05, ...,\n",
       "       1.21743450e-03, 2.06525070e-03, 3.66966574e-03])"
      ]
     },
     "execution_count": 15,
     "metadata": {},
     "output_type": "execute_result"
    }
   ],
   "source": [
    "conductivity = ecmodel.get_conductivity(crystal_direction='[100]',**physiokwargs)\n",
    "conductivity"
   ]
  },
  {
   "cell_type": "code",
   "execution_count": 16,
   "id": "5a45224a",
   "metadata": {
    "execution": {
     "iopub.execute_input": "2024-09-05T18:00:47.791589Z",
     "iopub.status.busy": "2024-09-05T18:00:47.791451Z",
     "iopub.status.idle": "2024-09-05T18:00:47.794414Z",
     "shell.execute_reply": "2024-09-05T18:00:47.794110Z"
    }
   },
   "outputs": [
    {
     "data": {
      "text/plain": [
       "array([1.29527083e-05, 3.18592478e-05, 7.17224706e-05, ...,\n",
       "       1.71472118e-03, 3.03067424e-03, 5.54926118e-03])"
      ]
     },
     "execution_count": 16,
     "metadata": {},
     "output_type": "execute_result"
    }
   ],
   "source": [
    "conductivity = ecmodel.get_conductivity(crystal_direction=0.5,**physiokwargs)\n",
    "conductivity"
   ]
  },
  {
   "cell_type": "code",
   "execution_count": 17,
   "id": "5a92f2a7",
   "metadata": {
    "execution": {
     "iopub.execute_input": "2024-09-05T18:00:47.796149Z",
     "iopub.status.busy": "2024-09-05T18:00:47.796005Z",
     "iopub.status.idle": "2024-09-05T18:00:47.800449Z",
     "shell.execute_reply": "2024-09-05T18:00:47.799963Z"
    }
   },
   "outputs": [
    {
     "name": "stdout",
     "output_type": "stream",
     "text": [
      "Anisotropic Factors: [0.44272378 0.1158921  0.35346936 ... 0.98237585 0.93584736 0.08232524]\n"
     ]
    },
    {
     "data": {
      "text/plain": [
       "array([1.16809102e-05, 1.13590335e-05, 5.45305724e-05, ...,\n",
       "       2.88416805e-03, 4.80950149e-03, 2.61635016e-03])"
      ]
     },
     "execution_count": 17,
     "metadata": {},
     "output_type": "execute_result"
    }
   ],
   "source": [
    "import numpy as np\n",
    "\n",
    "# Provide an array of anisotropic factors for batch querying\n",
    "factors = np.random.uniform(0,1,size=len(T))\n",
    "print(f'Anisotropic Factors: {factors}')\n",
    "conductivity = ecmodel.get_conductivity(crystal_direction=factors,**physiokwargs)\n",
    "conductivity"
   ]
  },
  {
   "cell_type": "code",
   "execution_count": 18,
   "id": "9873c604",
   "metadata": {
    "execution": {
     "iopub.execute_input": "2024-09-05T18:00:47.803236Z",
     "iopub.status.busy": "2024-09-05T18:00:47.803054Z",
     "iopub.status.idle": "2024-09-05T18:00:48.145593Z",
     "shell.execute_reply": "2024-09-05T18:00:48.145248Z"
    }
   },
   "outputs": [
    {
     "name": "stdout",
     "output_type": "stream",
     "text": [
      "[1.85038547e-06 5.17375901e-06 1.30593207e-05 ... 5.02547241e-04\n",
      " 9.90020304e-04 2.03826257e-03]\n",
      "[10.          9.47368421  9.         ...  7.2         6.92307692\n",
      "  6.66666667]\n",
      "[2.40550310e-05 5.85447366e-05 1.30385620e-04 ... 2.92689511e-03\n",
      " 5.07132817e-03 9.06025978e-03]\n",
      "[10.          9.47368421  9.         ...  7.2         6.92307692\n",
      "  6.66666667]\n",
      "[0. 0. 0. ... 0. 0. 0.]\n",
      "[10.          9.47368421  9.         ...  7.2         6.92307692\n",
      "  6.66666667]\n"
     ]
    },
    {
     "name": "stderr",
     "output_type": "stream",
     "text": [
      "/var/folders/5h/95y6jy4s2pb02h07pf5q7dgc0000gn/T/ipykernel_99464/3978061993.py:26: UserWarning: FigureCanvasAgg is non-interactive, and thus cannot be shown\n",
      "  fig.show()\n"
     ]
    },
    {
     "data": {
      "image/png": "[encoded data removed]",
      "text/plain": [
       "<Figure size 640x480 with 2 Axes>"
      ]
     },
     "metadata": {
      "filenames": {
       "image/png": "/Volumes/X9 Pro/Recovered Data  - EXFAT/MT_RESEARCH/2D_Petrology/mineral_conductivity/mineralconductivities/docs/build/jupyter_execute/modelsguide_17_2.png"
      }
     },
     "output_type": "display_data"
    }
   ],
   "source": [
    "fig, ax = plt.subplots()\n",
    "linear_major_ticks = np.asarray([2000,1400,1100,900,800,700,600,500,400])\n",
    "pyhutils.format_ax_arrhenian_space(ax,linear_major_ticks=linear_major_ticks,xlim=[5,10])\n",
    "\n",
    "# Physiochemical states\n",
    "Cw = 100 #(100 ppm water)\n",
    "P = 3 # 3 GPa\n",
    "T = np.linspace(1000,1500,num=10)\n",
    "physiokwargs = {'Cw':Cw,'P':P,'T':T}\n",
    "\n",
    "\n",
    "isotropic_model_id = 'isotropic_model:fei_20_ol[100]+fei_20_ol[010]+fei_20_ol[001]'\n",
    "ecmodel = ecdatabase.get_model(isotropic_model_id)\n",
    "\n",
    "for averaging in ['min_aniso','max_aniso','geometric']:\n",
    "    c = ecmodel.get_conductivity(averaging=averaging,**physiokwargs)\n",
    "    print(c)\n",
    "    print(1e4/T)\n",
    "    ax.plot(1e4/T,c,label=averaging,linewidth=2)\n",
    "\n",
    "for factor in [0,0.3,0.5,0.6,1.0]:\n",
    "    c = ecmodel.get_conductivity(crystal_direction=factor,**physiokwargs)\n",
    "    ax.plot(1e4/T,c,label=f'f={factor}',linestyle='--',linewidth=1,marker='+')\n",
    "ax.legend()\n",
    "ax.set_ylim([1e-4,1e-1])\n",
    "fig.show()"
   ]
  },
  {
   "cell_type": "code",
   "execution_count": 19,
   "id": "df045aea",
   "metadata": {
    "execution": {
     "iopub.execute_input": "2024-09-05T18:00:48.147674Z",
     "iopub.status.busy": "2024-09-05T18:00:48.147520Z",
     "iopub.status.idle": "2024-09-05T18:00:48.316903Z",
     "shell.execute_reply": "2024-09-05T18:00:48.316513Z"
    }
   },
   "outputs": [],
   "source": [
    "from pyrrhenius.database import Database\n",
    "\n",
    "ecdatabase = Database()\n",
    "\n",
    "dry_model = ecdatabase.get_model('SEO3_ol')\n",
    "novella_models =['nv_17_ol[100]','nv_17_ol[010]','nv_17_ol[001]']\n",
    "fei_models = ['fei_20_ol_ionic[100]','fei_20_ol_ionic[010]', 'fei_20_ol_ionic[001]']"
   ]
  },
  {
   "cell_type": "code",
   "execution_count": 20,
   "id": "82ed9603",
   "metadata": {
    "execution": {
     "iopub.execute_input": "2024-09-05T18:00:48.319015Z",
     "iopub.status.busy": "2024-09-05T18:00:48.318864Z",
     "iopub.status.idle": "2024-09-05T18:00:48.335163Z",
     "shell.execute_reply": "2024-09-05T18:00:48.334832Z"
    }
   },
   "outputs": [
    {
     "name": "stdout",
     "output_type": "stream",
     "text": [
      "********************\n",
      "nv_17_ol[100]\n",
      "[3.50705631e-05 9.90950092e-04 1.30542793e-02 ... 1.80010978e+01\n",
      " 4.20468535e+01 8.79148355e+01]\n",
      "nan bell (2003)\n",
      "nan ppm\n",
      "nan nan\n",
      "nan bell (2003)\n",
      "nan ppm\n",
      "nan nan\n",
      "nan bell (2003)\n",
      "nan ppm\n",
      "nan nan\n",
      "[3.62561072e-05 1.00357414e-03 1.31427507e-02 ... 1.83972555e+01\n",
      " 4.37197301e+01 9.39204533e+01]\n",
      "old ec model representation:nv_17_ol[100]:{1.8e+42(nan) Cw * 10^-0.7(0.9) * exp(2.373417751(0.186556854)/kT)/kT}\n",
      "new ec model representation:{nv_17_ol[100]+SEO3_ol}\n",
      "********************\n",
      "nv_17_ol[010]\n",
      "[1.66824213e-06 1.98422234e-05 1.33579471e-04 ... 2.72729762e-02\n",
      " 5.06947206e-02 8.68055584e-02]\n",
      "nan bell (2003)\n",
      "nan ppm\n",
      "nan nan\n",
      "nan bell (2003)\n",
      "nan ppm\n",
      "nan nan\n",
      "nan bell (2003)\n",
      "nan ppm\n",
      "nan nan\n",
      "[2.85378621e-06 3.24662702e-05 2.22050961e-04 ... 4.23430675e-01\n",
      " 1.72357132e+00 6.09242337e+00]\n",
      "old ec model representation:nv_17_ol[010]:{1.8e+42(nan) Cw * 10^-5.0(0.9) * exp(1.782654381(0.196921123)/kT)/kT}\n",
      "new ec model representation:{nv_17_ol[010]+SEO3_ol}\n",
      "********************\n",
      "nv_17_ol[001]\n",
      "[7.70053971e-06 1.16770705e-04 9.49122714e-04 ... 3.31262475e-01\n",
      " 6.56521973e-01 1.18900374e+00]\n",
      "nan bell (2003)\n",
      "nan ppm\n",
      "nan nan\n",
      "nan bell (2003)\n",
      "nan ppm\n",
      "nan nan\n",
      "nan bell (2003)\n",
      "nan ppm\n",
      "nan nan\n",
      "[8.88608380e-06 1.29394752e-04 1.03759420e-03 ... 7.27420174e-01\n",
      " 2.32939857e+00 7.19462156e+00]\n",
      "old ec model representation:nv_17_ol[001]:{1.8e+42(nan) Cw * 10^-3.5(0.4) * exp(1.948482695(0.082914157)/kT)/kT}\n",
      "new ec model representation:{nv_17_ol[001]+SEO3_ol}\n",
      "********************\n",
      "fei_20_ol_ionic[100]\n",
      "[7.23469940e-09 9.04702653e-07 3.77916203e-05 ... 1.38987350e+00\n",
      " 4.80779309e+00 1.41706718e+01]\n",
      "nan withers (2012)\n",
      "nan ppm\n",
      "nan nan\n",
      "nan withers (2012)\n",
      "nan ppm\n",
      "nan nan\n",
      "nan withers (2012)\n",
      "nan ppm\n",
      "nan nan\n",
      "[1.19277878e-06 1.35287494e-05 1.26263111e-04 ... 1.78603120e+00\n",
      " 6.48066969e+00 2.01762897e+01]\n",
      "old ec model representation:fei_20_ol_ionic[100]:{Cw^1.3(0.2) 10^9.9(5.00E-01) exp(-(3.492758874(0.155464045) + P4.2(0.4))/kT)/T}\n",
      "new ec model representation:{fei_20_ol_ionic[100]+SEO3_ol}\n",
      "********************\n",
      "fei_20_ol_ionic[010]\n",
      "[4.30852962e-10 1.36803548e-07 1.17751141e-05 ... 3.38772410e+00\n",
      " 1.49869656e+01 5.47740243e+01]\n",
      "nan withers (2012)\n",
      "nan ppm\n",
      "nan nan\n",
      "nan withers (2012)\n",
      "nan ppm\n",
      "nan nan\n",
      "nan withers (2012)\n",
      "nan ppm\n",
      "nan nan\n",
      "[1.18597494e-06 1.27608503e-05 1.00246605e-04 ... 3.78388180e+00\n",
      " 1.66598422e+01 6.07796421e+01]\n",
      "old ec model representation:fei_20_ol_ionic[010]:{Cw^1.3(0.2) 10^11.6(4.00E-01) exp(-(4.104250784(0.259106741) + P3.2(0.2))/kT)/T}\n",
      "new ec model representation:{fei_20_ol_ionic[010]+SEO3_ol}\n",
      "********************\n",
      "fei_20_ol_ionic[001]\n",
      "[1.76960339e-09 4.60233007e-07 3.39315979e-05 ... 6.28384594e+00\n",
      " 2.63725119e+01 9.20463369e+01]\n",
      "nan withers (2012)\n",
      "nan ppm\n",
      "nan nan\n",
      "nan withers (2012)\n",
      "nan ppm\n",
      "nan nan\n",
      "nan withers (2012)\n",
      "nan ppm\n",
      "nan nan\n",
      "[1.18731369e-06 1.30842797e-05 1.22403088e-04 ... 6.68000363e+00\n",
      " 2.80453885e+01 9.80519547e+01]\n",
      "old ec model representation:fei_20_ol_ionic[001]:{Cw^1.3(0.2) 10^11.78(4.00E-01) exp(-(3.990243818(0.155464045) + P4.1(0.4))/kT)/T}\n",
      "new ec model representation:{fei_20_ol_ionic[001]+SEO3_ol}\n"
     ]
    },
    {
     "name": "stderr",
     "output_type": "stream",
     "text": [
      "/Volumes/X9 Pro/Recovered Data  - EXFAT/MT_RESEARCH/2D_Petrology/mineral_conductivity/mineralconductivities/pyrrhenius/database.py:127: FutureWarning: The behavior of DataFrame concatenation with empty or all-NA entries is deprecated. In a future version, this will no longer exclude empty or all-NA columns when determining the result dtypes. To retain the old behavior, exclude the relevant entries before the concat operation.\n",
      "  self.database = pd.concat([self.database, db_row], ignore_index=True)\n",
      "/Volumes/X9 Pro/Recovered Data  - EXFAT/MT_RESEARCH/2D_Petrology/mineral_conductivity/mineralconductivities/pyrrhenius/database.py:127: FutureWarning: The behavior of DataFrame concatenation with empty or all-NA entries is deprecated. In a future version, this will no longer exclude empty or all-NA columns when determining the result dtypes. To retain the old behavior, exclude the relevant entries before the concat operation.\n",
      "  self.database = pd.concat([self.database, db_row], ignore_index=True)\n",
      "/Volumes/X9 Pro/Recovered Data  - EXFAT/MT_RESEARCH/2D_Petrology/mineral_conductivity/mineralconductivities/pyrrhenius/database.py:127: FutureWarning: The behavior of DataFrame concatenation with empty or all-NA entries is deprecated. In a future version, this will no longer exclude empty or all-NA columns when determining the result dtypes. To retain the old behavior, exclude the relevant entries before the concat operation.\n",
      "  self.database = pd.concat([self.database, db_row], ignore_index=True)\n",
      "/Volumes/X9 Pro/Recovered Data  - EXFAT/MT_RESEARCH/2D_Petrology/mineral_conductivity/mineralconductivities/pyrrhenius/database.py:127: FutureWarning: The behavior of DataFrame concatenation with empty or all-NA entries is deprecated. In a future version, this will no longer exclude empty or all-NA columns when determining the result dtypes. To retain the old behavior, exclude the relevant entries before the concat operation.\n",
      "  self.database = pd.concat([self.database, db_row], ignore_index=True)\n",
      "/Volumes/X9 Pro/Recovered Data  - EXFAT/MT_RESEARCH/2D_Petrology/mineral_conductivity/mineralconductivities/pyrrhenius/database.py:127: FutureWarning: The behavior of DataFrame concatenation with empty or all-NA entries is deprecated. In a future version, this will no longer exclude empty or all-NA columns when determining the result dtypes. To retain the old behavior, exclude the relevant entries before the concat operation.\n",
      "  self.database = pd.concat([self.database, db_row], ignore_index=True)\n",
      "/Volumes/X9 Pro/Recovered Data  - EXFAT/MT_RESEARCH/2D_Petrology/mineral_conductivity/mineralconductivities/pyrrhenius/database.py:127: FutureWarning: The behavior of DataFrame concatenation with empty or all-NA entries is deprecated. In a future version, this will no longer exclude empty or all-NA columns when determining the result dtypes. To retain the old behavior, exclude the relevant entries before the concat operation.\n",
      "  self.database = pd.concat([self.database, db_row], ignore_index=True)\n"
     ]
    }
   ],
   "source": [
    "from pyrrhenius.utils import calc_QFM\n",
    "T = np.linspace(1000,2300,num=10) # in K\n",
    "P = np.linspace(3,10,num=10) # in GPa\n",
    "qfm = calc_QFM(T,P)\n",
    "Cw = 300 # (in ppm)\n",
    "physiochem = {'T':T,'P':P,'Cw':Cw,'logfo2':qfm}\n",
    "models_to_composite = novella_models+fei_models\n",
    "\n",
    "for id in models_to_composite:\n",
    "    print('*'*20)\n",
    "    print(id)\n",
    "    ecmodel = ecdatabase.get_model(id)\n",
    "    print(ecmodel.get_conductivity(**physiochem))\n",
    "    new_ecmodel = ecmodel + dry_model\n",
    "    print(new_ecmodel.get_conductivity(**physiochem))\n",
    "    print(f'old ec model representation:{ecmodel}')\n",
    "    print(f'new ec model representation:{new_ecmodel}')\n",
    "    ecdatabase.register_new_model(new_ecmodel)"
   ]
  },
  {
   "cell_type": "code",
   "execution_count": 21,
   "id": "89b194ae",
   "metadata": {
    "execution": {
     "iopub.execute_input": "2024-09-05T18:00:48.336981Z",
     "iopub.status.busy": "2024-09-05T18:00:48.336832Z",
     "iopub.status.idle": "2024-09-05T18:00:48.368257Z",
     "shell.execute_reply": "2024-09-05T18:00:48.367831Z"
    }
   },
   "outputs": [
    {
     "name": "stdout",
     "output_type": "stream",
     "text": [
      "nan nan\n",
      "nan nan\n",
      "nan nan\n",
      "nan nan\n",
      "nan nan\n",
      "nan nan\n",
      "nan nan\n",
      "nan nan\n",
      "nan nan\n",
      "nan nan\n",
      "nan nan\n",
      "nan nan\n",
      "nan nan\n",
      "nan nan\n",
      "nan nan\n",
      "nan nan\n",
      "nan nan\n",
      "nan nan\n",
      "withers (2012) withers (2012)\n",
      "ppm ppm\n",
      "nan nan\n",
      "withers (2012) withers (2012)\n",
      "ppm ppm\n",
      "nan nan\n",
      "withers (2012) withers (2012)\n",
      "ppm ppm\n",
      "nan nan\n",
      "withers (2012) withers (2012)\n",
      "ppm ppm\n",
      "nan nan\n",
      "withers (2012) withers (2012)\n",
      "ppm ppm\n",
      "nan nan\n",
      "withers (2012) withers (2012)\n",
      "ppm ppm\n",
      "nan nan\n",
      "withers (2012) withers (2012)\n",
      "ppm ppm\n",
      "nan nan\n",
      "withers (2012) withers (2012)\n",
      "ppm ppm\n",
      "nan nan\n",
      "withers (2012) withers (2012)\n",
      "ppm ppm\n",
      "nan nan\n",
      "withers (2012) withers (2012)\n",
      "ppm ppm\n",
      "nan nan\n",
      "withers (2012) withers (2012)\n",
      "ppm ppm\n",
      "nan nan\n",
      "withers (2012) withers (2012)\n",
      "ppm ppm\n",
      "nan nan\n",
      "nan nan\n",
      "nan nan\n",
      "nan nan\n",
      "nan nan\n",
      "nan nan\n",
      "nan nan\n",
      "nan nan\n",
      "nan nan\n",
      "nan nan\n",
      "nan nan\n",
      "nan nan\n",
      "nan nan\n",
      "nan nan\n",
      "nan nan\n",
      "nan nan\n",
      "nan nan\n",
      "nan nan\n",
      "nan nan\n",
      "withers (2012) withers (2012)\n",
      "ppm ppm\n",
      "nan nan\n",
      "withers (2012) withers (2012)\n",
      "ppm ppm\n",
      "nan nan\n",
      "withers (2012) withers (2012)\n",
      "ppm ppm\n",
      "nan nan\n",
      "withers (2012) withers (2012)\n",
      "ppm ppm\n",
      "nan nan\n",
      "withers (2012) withers (2012)\n",
      "ppm ppm\n",
      "nan nan\n",
      "withers (2012) withers (2012)\n",
      "ppm ppm\n",
      "nan nan\n",
      "withers (2012) withers (2012)\n",
      "ppm ppm\n",
      "nan nan\n",
      "withers (2012) withers (2012)\n",
      "ppm ppm\n",
      "nan nan\n",
      "withers (2012) withers (2012)\n",
      "ppm ppm\n",
      "nan nan\n",
      "withers (2012) withers (2012)\n",
      "ppm ppm\n",
      "nan nan\n",
      "withers (2012) withers (2012)\n",
      "ppm ppm\n",
      "nan nan\n",
      "withers (2012) withers (2012)\n",
      "ppm ppm\n",
      "nan nan\n",
      "nan nan\n",
      "nan nan\n",
      "nan nan\n",
      "nan nan\n",
      "nan nan\n",
      "nan nan\n",
      "nan nan\n",
      "nan nan\n",
      "nan nan\n",
      "nan nan\n",
      "nan nan\n",
      "nan nan\n",
      "nan nan\n",
      "nan nan\n",
      "nan nan\n",
      "nan nan\n",
      "nan nan\n",
      "nan nan\n",
      "nan nan\n",
      "nan nan\n",
      "nan nan\n",
      "nan nan\n",
      "nan nan\n",
      "nan nan\n",
      "nan nan\n",
      "nan nan\n",
      "nan nan\n",
      "bell (2003) bell (2003)\n",
      "ppm ppm\n",
      "nan nan\n",
      "bell (2003) bell (2003)\n",
      "ppm ppm\n",
      "nan nan\n",
      "bell (2003) bell (2003)\n",
      "ppm ppm\n",
      "nan nan\n",
      "bell (2003) bell (2003)\n",
      "ppm ppm\n",
      "nan nan\n",
      "bell (2003) bell (2003)\n",
      "ppm ppm\n",
      "nan nan\n",
      "bell (2003) bell (2003)\n",
      "ppm ppm\n",
      "nan nan\n",
      "nan nan\n",
      "nan nan\n",
      "nan nan\n",
      "nan nan\n",
      "nan nan\n",
      "nan nan\n",
      "nan nan\n",
      "nan nan\n",
      "nan nan\n",
      "nan nan\n",
      "nan nan\n",
      "nan nan\n",
      "nan nan\n",
      "nan nan\n",
      "nan nan\n",
      "nan nan\n",
      "nan nan\n",
      "nan nan\n",
      "paterson (1982) paterson (1982)\n",
      "wtpct wtpct\n",
      "nan nan\n",
      "paterson (1982) paterson (1982)\n",
      "wtpct wtpct\n",
      "nan nan\n",
      "paterson (1982) paterson (1982)\n",
      "wtpct wtpct\n",
      "nan nan\n",
      "paterson (1982) paterson (1982)\n",
      "wtpct wtpct\n",
      "nan nan\n",
      "paterson (1982) paterson (1982)\n",
      "wtpct wtpct\n",
      "nan nan\n",
      "paterson (1982) paterson (1982)\n",
      "wtpct wtpct\n",
      "nan nan\n",
      "paterson (1982) paterson (1982)\n",
      "ppm ppm\n",
      "nan nan\n",
      "paterson (1982) paterson (1982)\n",
      "ppm ppm\n",
      "nan nan\n",
      "paterson (1982) paterson (1982)\n",
      "ppm ppm\n",
      "nan nan\n",
      "nan nan\n",
      "nan nan\n",
      "nan nan\n",
      "nan nan\n",
      "nan nan\n",
      "nan nan\n",
      "nan nan\n",
      "nan nan\n",
      "nan nan\n",
      "nan nan\n",
      "nan nan\n",
      "nan nan\n",
      "nan nan\n",
      "nan nan\n",
      "nan nan\n",
      "nan nan\n",
      "nan nan\n",
      "nan nan\n",
      "Libowitzky and rossman (1996) Libowitzky and rossman (1996)\n",
      "wtpct wtpct\n",
      "nan nan\n",
      "Libowitzky and rossman (1996) Libowitzky and rossman (1996)\n",
      "wtpct wtpct\n",
      "nan nan\n",
      "Libowitzky and rossman (1996) Libowitzky and rossman (1996)\n",
      "wtpct wtpct\n",
      "nan nan\n",
      "Libowitzky and rossman (1996) Libowitzky and rossman (1996)\n",
      "wtpct wtpct\n",
      "nan nan\n",
      "Libowitzky and rossman (1996) Libowitzky and rossman (1996)\n",
      "wtpct wtpct\n",
      "nan nan\n",
      "Libowitzky and rossman (1996) Libowitzky and rossman (1996)\n",
      "wtpct wtpct\n",
      "nan nan\n",
      "nan nan\n",
      "nan nan\n",
      "nan nan\n",
      "nan nan\n",
      "nan nan\n",
      "nan nan\n",
      "nan nan\n",
      "nan nan\n",
      "nan nan\n",
      "nan nan\n",
      "nan nan\n",
      "nan nan\n",
      "nan nan\n",
      "nan nan\n",
      "nan nan\n",
      "nan nan\n",
      "nan nan\n",
      "nan nan\n",
      "bell (1995) bell (1995)\n",
      "ppm ppm\n",
      "nan nan\n",
      "bell (1995) bell (1995)\n",
      "ppm ppm\n",
      "nan nan\n",
      "bell (1995) bell (1995)\n",
      "ppm ppm\n",
      "nan nan\n",
      "bell (1995) bell (1995)\n",
      "ppm ppm\n",
      "nan nan\n",
      "bell (1995) bell (1995)\n",
      "ppm ppm\n",
      "nan nan\n",
      "bell (1995) bell (1995)\n",
      "ppm ppm\n",
      "nan nan\n",
      "bell (2003) bell (2003)\n",
      "ppm ppm\n",
      "nan nan\n",
      "bell (2003) bell (2003)\n",
      "ppm ppm\n",
      "nan nan\n",
      "bell (2003) bell (2003)\n",
      "ppm ppm\n",
      "nan nan\n",
      "bell (2003) bell (2003)\n",
      "ppm ppm\n",
      "nan nan\n",
      "bell (2003) bell (2003)\n",
      "ppm ppm\n",
      "nan nan\n",
      "bell (2003) bell (2003)\n",
      "ppm ppm\n",
      "nan nan\n",
      "Johnson and Rossman (2003) Johnson and Rossman (2003)\n",
      "ppm ppm\n",
      "nan nan\n",
      "Johnson and Rossman (2003) Johnson and Rossman (2003)\n",
      "ppm ppm\n",
      "nan nan\n",
      "Johnson and Rossman (2003) Johnson and Rossman (2003)\n",
      "ppm ppm\n",
      "nan nan\n",
      "Johnson and Rossman (2003) Johnson and Rossman (2003)\n",
      "ppm ppm\n",
      "nan nan\n",
      "Johnson and Rossman (2003) Johnson and Rossman (2003)\n",
      "ppm ppm\n",
      "nan nan\n",
      "Johnson and Rossman (2003) Johnson and Rossman (2003)\n",
      "ppm ppm\n",
      "nan nan\n"
     ]
    },
    {
     "data": {
      "text/plain": [
       "['fei_20_ol_ionic[010]',\n",
       " 'fei_20_ol_ionic[001]',\n",
       " 'nv_17_ol[100]+SEO3_ol',\n",
       " 'nv_17_ol[010]+SEO3_ol',\n",
       " 'nv_17_ol[001]+SEO3_ol',\n",
       " 'fei_20_ol_ionic[100]+SEO3_ol',\n",
       " 'fei_20_ol_ionic[010]+SEO3_ol',\n",
       " 'fei_20_ol_ionic[001]+SEO3_ol',\n",
       " 'isotropic_model:dF_05_ol[100]+dF_05_ol[010]+dF_05_ol[001]',\n",
       " 'isotropic_model:fei_20_ol[100]+fei_20_ol[010]+fei_20_ol[001]',\n",
       " 'isotropic_model:fei_20_ol_ionic[100]+fei_20_ol_ionic[010]+fei_20_ol_ionic[001]',\n",
       " 'isotropic_model:fei_20_ol_ionic[100]+SEO3_ol+fei_20_ol_ionic[010]+SEO3_ol+fei_20_ol_ionic[001]+SEO3_ol',\n",
       " 'isotropic_model:gar_14_bell_ol[100]+gar_14_bell_ol[010]+gar_14_bell_ol[001]',\n",
       " 'isotropic_model:gar_14_withers_ol[100]+gar_14_withers_ol[010]+gar_14_withers_ol[001]',\n",
       " 'isotropic_model:nv_17_ol[100]+nv_17_ol[010]+nv_17_ol[001]',\n",
       " 'isotropic_model:nv_17_ol[100]+SEO3_ol+nv_17_ol[010]+SEO3_ol+nv_17_ol[001]+SEO3_ol',\n",
       " 'isotropic_model:sun_19ol[100]+sun_19ol[001]',\n",
       " 'isotropic_model:xu_2000_ol[001]+xu_2000_ol[010]+xu_2000_ol[100]',\n",
       " 'isotropic_model:y_16_ol[100]+y_16_ol[010]+y_16_ol[001]',\n",
       " 'isotropic_model:yang_12b_ol[100]+yang_12b_ol[010]+yang_12b_ol[001]']"
      ]
     },
     "execution_count": 21,
     "metadata": {},
     "output_type": "execute_result"
    }
   ],
   "source": [
    "ecdatabase.create_isotropic_models()\n",
    "model_list = ecdatabase.get_model_list_for_phase('olivine')\n",
    "model_list[-20:]"
   ]
  },
  {
   "cell_type": "code",
   "execution_count": 22,
   "id": "31fe3743",
   "metadata": {
    "execution": {
     "iopub.execute_input": "2024-09-05T18:00:48.370163Z",
     "iopub.status.busy": "2024-09-05T18:00:48.370006Z",
     "iopub.status.idle": "2024-09-05T18:00:48.372691Z",
     "shell.execute_reply": "2024-09-05T18:00:48.372386Z"
    }
   },
   "outputs": [],
   "source": [
    "from pyrrhenius.utils import calc_QFM\n",
    "T = np.linspace(1000,3000,num=10) # in K\n",
    "P = np.linspace(3,10,num=10) # in GPa\n",
    "qfm = calc_QFM(T,P)\n",
    "Cw = 300# (in ppm)\n",
    "physiochem = {'T':T,'P':P,'Cw':Cw,'logfo2':qfm}"
   ]
  },
  {
   "cell_type": "code",
   "execution_count": 23,
   "id": "2d52e9a9",
   "metadata": {
    "execution": {
     "iopub.execute_input": "2024-09-05T18:00:48.374388Z",
     "iopub.status.busy": "2024-09-05T18:00:48.374252Z",
     "iopub.status.idle": "2024-09-05T18:00:48.748327Z",
     "shell.execute_reply": "2024-09-05T18:00:48.747981Z"
    }
   },
   "outputs": [
    {
     "name": "stderr",
     "output_type": "stream",
     "text": [
      "/var/folders/5h/95y6jy4s2pb02h07pf5q7dgc0000gn/T/ipykernel_99464/2995247542.py:23: UserWarning: FigureCanvasAgg is non-interactive, and thus cannot be shown\n",
      "  fig.show()\n"
     ]
    },
    {
     "data": {
      "image/png": "[encoded data removed]",
      "text/plain": [
       "<Figure size 640x480 with 2 Axes>"
      ]
     },
     "metadata": {
      "filenames": {
       "image/png": "/Volumes/X9 Pro/Recovered Data  - EXFAT/MT_RESEARCH/2D_Petrology/mineral_conductivity/mineralconductivities/docs/build/jupyter_execute/modelsguide_22_1.png"
      }
     },
     "output_type": "display_data"
    }
   ],
   "source": [
    "fig, ax = plt.subplots()\n",
    "linear_major_ticks = np.asarray([2000,1400,1100,900,800,700,600,500,400])\n",
    "pyhutils.format_ax_arrhenian_space(ax,linear_major_ticks=linear_major_ticks,xlim=[5,10])\n",
    "\n",
    "\n",
    "fei_ionic_isotropic  = 'isotropic_model:fei_20_ol_ionic[100]+fei_20_ol_ionic[010]+fei_20_ol_ionic[001]'\n",
    "novella_isotropic    = 'isotropic_model:nv_17_ol[100]+nv_17_ol[010]+nv_17_ol[001]'\n",
    "fei_ionic_compound   = 'isotropic_model:fei_20_ol_ionic[100]+SEO3_ol+fei_20_ol_ionic[010]+SEO3_ol+fei_20_ol_ionic[001]+SEO3_ol'\n",
    "novella_wet_compound = 'isotropic_model:nv_17_ol[100]+SEO3_ol+nv_17_ol[010]+SEO3_ol+nv_17_ol[001]+SEO3_ol'\n",
    "ecmodel = ecdatabase.get_model('SEO3_ol')\n",
    "c = ecmodel.get_conductivity(**physiochem)\n",
    "ax.plot(1e4/T,c,label='SEO3 Olivine',linewidth=2)\n",
    "\n",
    "for label, model_id in zip(['isotropic fei','isotropic novella','iso fei w SEO3', 'iso Novella w SEO3'],\n",
    "                    [fei_ionic_isotropic,novella_isotropic,fei_ionic_compound,novella_wet_compound ]):\n",
    "    ecmodel = ecdatabase.get_model(model_id)\n",
    "    c = ecmodel.get_conductivity(**physiochem)\n",
    "    ax.plot(1e4/T,c,label=label,linewidth=2)\n",
    "\n",
    "\n",
    "ax.legend()\n",
    "ax.set_ylim([1e-4,1])\n",
    "fig.show()"
   ]
  },
  {
   "cell_type": "code",
   "execution_count": 24,
   "id": "891d7ea2",
   "metadata": {
    "execution": {
     "iopub.execute_input": "2024-09-05T18:00:48.750261Z",
     "iopub.status.busy": "2024-09-05T18:00:48.750110Z",
     "iopub.status.idle": "2024-09-05T18:00:48.929325Z",
     "shell.execute_reply": "2024-09-05T18:00:48.929008Z"
    }
   },
   "outputs": [
    {
     "name": "stdout",
     "output_type": "stream",
     "text": [
      "nan nan\n",
      "nan nan\n",
      "nan nan\n",
      "nan nan\n",
      "nan nan\n",
      "nan nan\n",
      "nan nan\n",
      "nan nan\n",
      "nan nan\n",
      "nan nan\n",
      "nan nan\n",
      "nan nan\n",
      "nan nan\n",
      "nan nan\n",
      "nan nan\n",
      "nan nan\n",
      "nan nan\n",
      "nan nan\n",
      "withers (2012) withers (2012)\n",
      "ppm ppm\n",
      "nan nan\n",
      "withers (2012) withers (2012)\n",
      "ppm ppm\n",
      "nan nan\n",
      "withers (2012) withers (2012)\n",
      "ppm ppm\n",
      "nan nan\n",
      "withers (2012) withers (2012)\n",
      "ppm ppm\n",
      "nan nan\n",
      "withers (2012) withers (2012)\n",
      "ppm ppm\n",
      "nan nan\n",
      "withers (2012) withers (2012)\n",
      "ppm ppm\n",
      "nan nan\n",
      "withers (2012) withers (2012)\n",
      "ppm ppm\n",
      "nan nan\n",
      "withers (2012) withers (2012)\n",
      "ppm ppm\n",
      "nan nan\n",
      "withers (2012) withers (2012)\n",
      "ppm ppm\n",
      "nan nan\n",
      "withers (2012) withers (2012)\n",
      "ppm ppm\n",
      "nan nan\n",
      "withers (2012) withers (2012)\n",
      "ppm ppm\n",
      "nan nan\n",
      "withers (2012) withers (2012)\n",
      "ppm ppm\n",
      "nan nan\n",
      "withers (2012) withers (2012)\n",
      "ppm ppm\n",
      "nan nan\n",
      "withers (2012) withers (2012)\n",
      "ppm ppm\n",
      "nan nan\n",
      "withers (2012) withers (2012)\n",
      "ppm ppm\n",
      "nan nan\n",
      "withers (2012) withers (2012)\n",
      "ppm ppm\n",
      "nan nan\n",
      "withers (2012) withers (2012)\n",
      "ppm ppm\n",
      "nan nan\n",
      "withers (2012) withers (2012)\n",
      "ppm ppm\n",
      "nan nan\n",
      "withers (2012) withers (2012)\n",
      "ppm ppm\n",
      "nan nan\n",
      "withers (2012) withers (2012)\n",
      "ppm ppm\n",
      "nan nan\n",
      "withers (2012) withers (2012)\n",
      "ppm ppm\n",
      "nan nan\n",
      "withers (2012) withers (2012)\n",
      "ppm ppm\n",
      "nan nan\n",
      "withers (2012) withers (2012)\n",
      "ppm ppm\n",
      "nan nan\n",
      "withers (2012) withers (2012)\n",
      "ppm ppm\n",
      "nan nan\n",
      "nan nan\n",
      "nan nan\n",
      "nan nan\n",
      "nan nan\n",
      "nan nan\n",
      "nan nan\n",
      "nan nan\n",
      "nan nan\n",
      "nan nan\n",
      "nan nan\n",
      "nan nan\n",
      "nan nan\n",
      "nan nan\n",
      "nan nan\n",
      "nan nan\n",
      "nan nan\n",
      "nan nan\n",
      "nan nan\n",
      "nan nan\n",
      "nan nan\n",
      "nan nan\n",
      "nan nan\n",
      "nan nan\n",
      "nan nan\n",
      "nan nan\n",
      "nan nan\n",
      "nan nan\n",
      "bell (2003) bell (2003)\n",
      "ppm ppm\n",
      "nan nan\n",
      "bell (2003) bell (2003)\n",
      "ppm ppm\n",
      "nan nan\n",
      "bell (2003) bell (2003)\n",
      "ppm ppm\n",
      "nan nan\n",
      "bell (2003) bell (2003)\n",
      "ppm ppm\n",
      "nan nan\n",
      "bell (2003) bell (2003)\n",
      "ppm ppm\n",
      "nan nan\n",
      "bell (2003) bell (2003)\n",
      "ppm ppm\n",
      "nan nan\n",
      "paterson (1982) paterson (1982)\n",
      "wtpct wtpct\n",
      "nan nan\n",
      "paterson (1982) paterson (1982)\n",
      "wtpct wtpct\n",
      "nan nan\n",
      "paterson (1982) paterson (1982)\n",
      "wtpct wtpct\n",
      "nan nan\n",
      "paterson (1982) paterson (1982)\n",
      "wtpct wtpct\n",
      "nan nan\n",
      "paterson (1982) paterson (1982)\n",
      "wtpct wtpct\n",
      "nan nan\n",
      "paterson (1982) paterson (1982)\n",
      "wtpct wtpct\n",
      "nan nan\n",
      "paterson (1982) paterson (1982)\n",
      "ppm ppm\n",
      "nan nan\n",
      "paterson (1982) paterson (1982)\n",
      "ppm ppm\n",
      "nan nan\n",
      "paterson (1982) paterson (1982)\n",
      "ppm ppm\n",
      "nan nan\n",
      "nan nan\n",
      "nan nan\n",
      "nan nan\n",
      "nan nan\n",
      "nan nan\n",
      "nan nan\n",
      "nan nan\n",
      "nan nan\n",
      "nan nan\n",
      "nan nan\n",
      "nan nan\n",
      "nan nan\n",
      "nan nan\n",
      "nan nan\n",
      "nan nan\n",
      "nan nan\n",
      "nan nan\n",
      "nan nan\n",
      "Libowitzky and rossman (1996) Libowitzky and rossman (1996)\n",
      "wtpct wtpct\n",
      "nan nan\n",
      "Libowitzky and rossman (1996) Libowitzky and rossman (1996)\n",
      "wtpct wtpct\n",
      "nan nan\n",
      "Libowitzky and rossman (1996) Libowitzky and rossman (1996)\n",
      "wtpct wtpct\n",
      "nan nan\n",
      "Libowitzky and rossman (1996) Libowitzky and rossman (1996)\n",
      "wtpct wtpct\n",
      "nan nan\n",
      "Libowitzky and rossman (1996) Libowitzky and rossman (1996)\n",
      "wtpct wtpct\n",
      "nan nan\n",
      "Libowitzky and rossman (1996) Libowitzky and rossman (1996)\n",
      "wtpct wtpct\n",
      "nan nan\n",
      "nan nan\n",
      "nan nan\n",
      "nan nan\n",
      "nan nan\n",
      "nan nan\n",
      "nan nan\n",
      "nan nan\n",
      "nan nan\n",
      "nan nan\n",
      "nan nan\n",
      "nan nan\n",
      "nan nan\n",
      "nan nan\n",
      "nan nan\n",
      "nan nan\n",
      "nan nan\n",
      "nan nan\n",
      "nan nan\n",
      "bell (1995) bell (1995)\n",
      "ppm ppm\n",
      "nan nan\n",
      "bell (1995) bell (1995)\n",
      "ppm ppm\n",
      "nan nan\n",
      "bell (1995) bell (1995)\n",
      "ppm ppm\n",
      "nan nan\n",
      "bell (1995) bell (1995)\n",
      "ppm ppm\n",
      "nan nan\n",
      "bell (1995) bell (1995)\n",
      "ppm ppm\n",
      "nan nan\n",
      "bell (1995) bell (1995)\n",
      "ppm ppm\n",
      "nan nan\n",
      "bell (2003) bell (2003)\n",
      "ppm ppm\n",
      "nan nan\n",
      "bell (2003) bell (2003)\n",
      "ppm ppm\n",
      "nan nan\n",
      "bell (2003) bell (2003)\n",
      "ppm ppm\n",
      "nan nan\n",
      "bell (2003) bell (2003)\n",
      "ppm ppm\n",
      "nan nan\n",
      "bell (2003) bell (2003)\n",
      "ppm ppm\n",
      "nan nan\n",
      "bell (2003) bell (2003)\n",
      "ppm ppm\n",
      "nan nan\n",
      "Johnson and Rossman (2003) Johnson and Rossman (2003)\n",
      "ppm ppm\n",
      "nan nan\n",
      "Johnson and Rossman (2003) Johnson and Rossman (2003)\n",
      "ppm ppm\n",
      "nan nan\n",
      "Johnson and Rossman (2003) Johnson and Rossman (2003)\n",
      "ppm ppm\n",
      "nan nan\n",
      "Johnson and Rossman (2003) Johnson and Rossman (2003)\n",
      "ppm ppm\n",
      "nan nan\n",
      "Johnson and Rossman (2003) Johnson and Rossman (2003)\n",
      "ppm ppm\n",
      "nan nan\n",
      "Johnson and Rossman (2003) Johnson and Rossman (2003)\n",
      "ppm ppm\n",
      "nan nan\n",
      "Original Conductivity: 0.0 S/m\n",
      "Water-Corrected Conductivity: 0.0 S/m\n"
     ]
    }
   ],
   "source": [
    "from pyrrhenius.model import WaterCorrection\n",
    "from pyrrhenius.database import Database\n",
    "\n",
    "# Initialize database and water-corrected model\n",
    "ecdatabase = Database()\n",
    "ecdatabase.create_isotropic_models()\n",
    "base_model = ecdatabase.get_model('isotropic_model:gar_14_withers_ol[100]+gar_14_withers_ol[010]+gar_14_withers_ol[001]')\n",
    "water_corrected_model = WaterCorrection(base_model,correction_factor=1/3)\n",
    "\n",
    "# Define parameters\n",
    "T = 1200  # Temperature in K\n",
    "P = 1.5   # Pressure in GPa\n",
    "Cw = 150   # Water concentration in ppm\n",
    "\n",
    "# Calculate conductivity with water correction\n",
    "corrected = water_corrected_model.get_conductivity(T=T, P=P, Cw=Cw)\n",
    "original  = base_model.get_conductivity(T=T, P=P, Cw=Cw)\n",
    "print(f\"Original Conductivity: {original} S/m\")\n",
    "print(f\"Water-Corrected Conductivity: {corrected} S/m\")"
   ]
  },
  {
   "cell_type": "code",
   "execution_count": 25,
   "id": "bda0ce12",
   "metadata": {
    "execution": {
     "iopub.execute_input": "2024-09-05T18:00:48.931326Z",
     "iopub.status.busy": "2024-09-05T18:00:48.931171Z",
     "iopub.status.idle": "2024-09-05T18:00:51.483755Z",
     "shell.execute_reply": "2024-09-05T18:00:51.483404Z"
    }
   },
   "outputs": [
    {
     "name": "stdout",
     "output_type": "stream",
     "text": [
      "Base Model Time (1000 iterations): 2.353456 seconds\n",
      "Cached Model Time (First Run): 0.002372 seconds\n",
      "Cached Model Time (1000 iterations, using cache): 0.000284 seconds\n",
      "\n",
      "Base Model Conductivity: [12.51336529 13.3152351  14.09626467 ... 39.31318444 39.32998146\n",
      " 39.34456567]\n",
      "Cached Model Conductivity: [12.51336529 13.3152351  14.09626467 ... 39.31318444 39.32998146\n",
      " 39.34456567]\n",
      "\n",
      "Speedup factor (cached vs base): 8288.04x\n"
     ]
    }
   ],
   "source": [
    "from pyrrhenius.model import CachedModel\n",
    "from pyrrhenius.database import Database\n",
    "import timeit\n",
    "\n",
    "# Initialize database and cached model\n",
    "ecdatabase = Database()\n",
    "base_model = ecdatabase.get_model('sk17_brine')\n",
    "\n",
    "cached_model = CachedModel(base_model)\n",
    "\n",
    "# Define parameters for simulation\n",
    "T = np.linspace(400,700,num=100) # Temperature in K\n",
    "P = 1.0   # Pressure in GPa\n",
    "nacl = 5 # 5% NaCl\n",
    "\n",
    "def time_base_model():\n",
    "    return base_model.get_conductivity(T=T, P=P, nacl=nacl)\n",
    "\n",
    "def time_cached_model():\n",
    "    return cached_model.get_conductivity(T=T, P=P, nacl=nacl)\n",
    "\n",
    "base_time = timeit.timeit(time_base_model, number=1000)\n",
    "print(f\"Base Model Time (1000 iterations): {base_time:.6f} seconds\")\n",
    "\n",
    "first_cached_time = timeit.timeit(time_cached_model, number=1)\n",
    "print(f\"Cached Model Time (First Run): {first_cached_time:.6f} seconds\")\n",
    "\n",
    "cached_time = timeit.timeit(time_cached_model, number=1000)\n",
    "print(f\"Cached Model Time (1000 iterations, using cache): {cached_time:.6f} seconds\")\n",
    "\n",
    "base_conductivity = base_model.get_conductivity(T=T, P=P, nacl=nacl)\n",
    "cached_conductivity = cached_model.get_conductivity(T=T, P=P, nacl=nacl)\n",
    "\n",
    "print(f\"\\nBase Model Conductivity: {base_conductivity}\")\n",
    "print(f\"Cached Model Conductivity: {cached_conductivity}\")\n",
    "\n",
    "speedup = base_time / cached_time\n",
    "print(f\"\\nSpeedup factor (cached vs base): {speedup:.2f}x\")"
   ]
  }
 ],
 "metadata": {
  "kernelspec": {
   "display_name": "Python 3 (ipykernel)",
   "language": "python",
   "name": "python3"
  },
  "language_info": {
   "codemirror_mode": {
    "name": "ipython",
    "version": 3
   },
   "file_extension": ".py",
   "mimetype": "text/x-python",
   "name": "python",
   "nbconvert_exporter": "python",
   "pygments_lexer": "ipython3",
   "version": "3.9.19"
  }
 },
 "nbformat": 4,
 "nbformat_minor": 5
}