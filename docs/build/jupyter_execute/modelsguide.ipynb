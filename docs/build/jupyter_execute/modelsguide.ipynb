{
 "cells": [
  {
   "cell_type": "code",
   "execution_count": 1,
   "id": "813cd4ab",
   "metadata": {
    "execution": {
     "iopub.execute_input": "2024-09-06T16:40:21.952670Z",
     "iopub.status.busy": "2024-09-06T16:40:21.952481Z",
     "iopub.status.idle": "2024-09-06T16:40:22.464400Z",
     "shell.execute_reply": "2024-09-06T16:40:22.464016Z"
    }
   },
   "outputs": [],
   "source": [
    "import numpy as np\n",
    "np.set_printoptions(edgeitems=3, infstr='inf', linewidth=75, nanstr='nan',\n",
    "                   precision=8, suppress=False, threshold=3, formatter=None)\n",
    "\n",
    "import pyrrhenius.database as phsd\n",
    "\n",
    "ecdatabase = phsd.Database()"
   ]
  },
  {
   "cell_type": "code",
   "execution_count": 2,
   "id": "74d3c94a",
   "metadata": {
    "execution": {
     "iopub.execute_input": "2024-09-06T16:40:22.466729Z",
     "iopub.status.busy": "2024-09-06T16:40:22.466566Z",
     "iopub.status.idle": "2024-09-06T16:40:22.470727Z",
     "shell.execute_reply": "2024-09-06T16:40:22.470368Z"
    }
   },
   "outputs": [
    {
     "name": "stdout",
     "output_type": "stream",
     "text": [
      "nv_17_ol[010]:{1.8e+42(nan) Cw * 10^-5.0(0.9) * exp(1.782654381(0.196921123)/kT)/kT}\n",
      "SEO3_ol:{e*(5.06e+24(nan) exp( -0.357(nan)/kT) 3.33e+24(nan) exp( -0.02(nan)/kT) fO2^0.166667(nan))*1.22e-05(nan) exp( -1.05(nan)/kT) + e*(4.58e+26(nan) exp( -0.752(nan)/kT) 6.209999999999999e+30(nan) exp( -1.83(nan)/kT) fO2^0.166666667(nan))*5.44e-06(nan) exp( -1.09(nan)/kT)}\n",
      "nan bell (2003)\n",
      "nan ppm\n",
      "nan nan\n",
      "nan bell (2003)\n",
      "nan ppm\n",
      "nan nan\n",
      "nan bell (2003)\n",
      "nan ppm\n",
      "nan nan\n",
      "{nv_17_ol[010]+SEO3_ol}\n"
     ]
    }
   ],
   "source": [
    "nv17HD  = ecdatabase.get_model('nv_17_ol[010]') # Novella et al. 2017's hydrogen diffusion equation\n",
    "print(nv17HD)\n",
    "\n",
    "seo3dry =  ecdatabase.get_model('SEO3_ol') # Constable et al. 2006's dry olivine equation\n",
    "print(seo3dry)\n",
    "\n",
    "combined = nv17HD+seo3dry\n",
    "print(combined)"
   ]
  },
  {
   "cell_type": "code",
   "execution_count": 3,
   "id": "4756ec9a",
   "metadata": {
    "execution": {
     "iopub.execute_input": "2024-09-06T16:40:22.472783Z",
     "iopub.status.busy": "2024-09-06T16:40:22.472659Z",
     "iopub.status.idle": "2024-09-06T16:40:22.477294Z",
     "shell.execute_reply": "2024-09-06T16:40:22.476994Z"
    }
   },
   "outputs": [
    {
     "data": {
      "text/plain": [
       "2.7380861532827377e-05"
      ]
     },
     "execution_count": 3,
     "metadata": {},
     "output_type": "execute_result"
    }
   ],
   "source": [
    "model = ecdatabase.get_model('SEO3_ol')\n",
    "model.get_conductivity(T=1000, P=1.0, logfo2=10**-11)"
   ]
  },
  {
   "cell_type": "code",
   "execution_count": 4,
   "id": "71d642a7",
   "metadata": {
    "execution": {
     "iopub.execute_input": "2024-09-06T16:40:22.478965Z",
     "iopub.status.busy": "2024-09-06T16:40:22.478819Z",
     "iopub.status.idle": "2024-09-06T16:40:22.482088Z",
     "shell.execute_reply": "2024-09-06T16:40:22.481754Z"
    }
   },
   "outputs": [
    {
     "name": "stdout",
     "output_type": "stream",
     "text": [
      "(4,)\n"
     ]
    },
    {
     "data": {
      "text/plain": [
       "array([1.29536636e-07, 1.29536636e-07, 1.29536636e-07, 1.29536636e-07])"
      ]
     },
     "execution_count": 4,
     "metadata": {},
     "output_type": "execute_result"
    }
   ],
   "source": [
    "T = np.ones(4)*700 # in degrees K\n",
    "print(T.shape)\n",
    "model.get_conductivity(T=T, P=1.0, logfo2=10**-11)"
   ]
  },
  {
   "cell_type": "code",
   "execution_count": 5,
   "id": "b560b388",
   "metadata": {
    "execution": {
     "iopub.execute_input": "2024-09-06T16:40:22.483863Z",
     "iopub.status.busy": "2024-09-06T16:40:22.483749Z",
     "iopub.status.idle": "2024-09-06T16:40:22.487026Z",
     "shell.execute_reply": "2024-09-06T16:40:22.486729Z"
    }
   },
   "outputs": [
    {
     "name": "stdout",
     "output_type": "stream",
     "text": [
      "(4, 4)\n"
     ]
    },
    {
     "data": {
      "text/plain": [
       "array([[1.29536636e-07, 1.29536636e-07, 1.29536636e-07, 1.29536636e-07],\n",
       "       [1.29536636e-07, 1.29536636e-07, 1.29536636e-07, 1.29536636e-07],\n",
       "       [1.29536636e-07, 1.29536636e-07, 1.29536636e-07, 1.29536636e-07],\n",
       "       [1.29536636e-07, 1.29536636e-07, 1.29536636e-07, 1.29536636e-07]])"
      ]
     },
     "execution_count": 5,
     "metadata": {},
     "output_type": "execute_result"
    }
   ],
   "source": [
    "T = np.ones((4,4))*700 # in degrees K\n",
    "print(T.shape)\n",
    "model.get_conductivity(T=T, P=1.0, logfo2=10**-11)"
   ]
  },
  {
   "cell_type": "code",
   "execution_count": 6,
   "id": "7ce9ff27",
   "metadata": {
    "execution": {
     "iopub.execute_input": "2024-09-06T16:40:22.488871Z",
     "iopub.status.busy": "2024-09-06T16:40:22.488732Z",
     "iopub.status.idle": "2024-09-06T16:40:22.490845Z",
     "shell.execute_reply": "2024-09-06T16:40:22.490532Z"
    }
   },
   "outputs": [
    {
     "name": "stdout",
     "output_type": "stream",
     "text": [
      "logfo2 not provided. Pass logfo2 as a keyword-argument\n"
     ]
    }
   ],
   "source": [
    "try:\n",
    "    model.get_conductivity(T=T)\n",
    "except AssertionError as e:\n",
    "    print(e)"
   ]
  },
  {
   "cell_type": "code",
   "execution_count": 7,
   "id": "c1776474",
   "metadata": {
    "execution": {
     "iopub.execute_input": "2024-09-06T16:40:22.492467Z",
     "iopub.status.busy": "2024-09-06T16:40:22.492338Z",
     "iopub.status.idle": "2024-09-06T16:40:22.494466Z",
     "shell.execute_reply": "2024-09-06T16:40:22.494146Z"
    }
   },
   "outputs": [
    {
     "name": "stdout",
     "output_type": "stream",
     "text": [
      "********************\n",
      "Required Keywords\n",
      "********************\n",
      "\n",
      "Intrinsic Arguments\n",
      "--------------------\n",
      "\n",
      "Volatile Arguments\n",
      "--------------------\n",
      "\n",
      "Electronic Conduction Arguments\n",
      "--------------------\n",
      "*logfo2\n",
      "\n",
      "Diffusion Conduction Arguments\n",
      "--------------------\n",
      "\n",
      "Polymerizing Agent Arguments\n",
      "--------------------\n"
     ]
    }
   ],
   "source": [
    "model.print_required_parameters()"
   ]
  },
  {
   "cell_type": "code",
   "execution_count": 8,
   "id": "5a0cb2e9",
   "metadata": {
    "execution": {
     "iopub.execute_input": "2024-09-06T16:40:22.496194Z",
     "iopub.status.busy": "2024-09-06T16:40:22.496063Z",
     "iopub.status.idle": "2024-09-06T16:40:22.656463Z",
     "shell.execute_reply": "2024-09-06T16:40:22.656086Z"
    }
   },
   "outputs": [
    {
     "data": {
      "text/plain": [
       "['SEO2_ol',\n",
       " 'xu_2000_ol[001]',\n",
       " 'xu_2000_ol[010]',\n",
       " 'xu_2000_ol[100]',\n",
       " 'xu_2000_poly_ol',\n",
       " 'dF_05_ol[100]',\n",
       " 'dF_05_ol[010]',\n",
       " 'dF_05_ol[001]',\n",
       " 'SEO3_ol',\n",
       " 'wang_06_ol',\n",
       " 'dk_2009_ol',\n",
       " 'ty_09_dry_ol',\n",
       " 'ty_09_ol',\n",
       " 'ty_12_ol',\n",
       " 'yang_12b_ol[100]',\n",
       " 'yang_12b_ol[010]',\n",
       " 'yang_12b_ol[001]',\n",
       " 'gar_14_bell_ol[100]',\n",
       " 'gar_14_bell_ol[010]',\n",
       " 'gar_14_bell_ol[001]',\n",
       " 'gar_14_withers_ol[100]',\n",
       " 'gar_14_withers_ol[010]',\n",
       " 'gar_14_withers_ol[001]',\n",
       " 'y_16_ol[100]',\n",
       " 'y_16_ol[010]',\n",
       " 'y_16_ol[001]',\n",
       " 'nv_17_ol[100]',\n",
       " 'nv_17_ol[010]',\n",
       " 'nv_17_ol[001]',\n",
       " 'sun_19ol[100]',\n",
       " 'sun_19ol[001]',\n",
       " 'fei_20_ol[100]',\n",
       " 'fei_20_ol[010]',\n",
       " 'fei_20_ol[001]',\n",
       " 'fei_20_ol_ionic[100]',\n",
       " 'fei_20_ol_ionic[010]',\n",
       " 'fei_20_ol_ionic[001]']"
      ]
     },
     "execution_count": 8,
     "metadata": {},
     "output_type": "execute_result"
    }
   ],
   "source": [
    "import pyrrhenius.database as phsd\n",
    "\n",
    "ecdatabase = phsd.Database()\n",
    "\n",
    "ecdatabase.get_model_list_for_phase('olivine')"
   ]
  },
  {
   "cell_type": "code",
   "execution_count": 9,
   "id": "f53d3732",
   "metadata": {
    "execution": {
     "iopub.execute_input": "2024-09-06T16:40:22.658286Z",
     "iopub.status.busy": "2024-09-06T16:40:22.658133Z",
     "iopub.status.idle": "2024-09-06T16:40:23.494068Z",
     "shell.execute_reply": "2024-09-06T16:40:23.493703Z"
    }
   },
   "outputs": [
    {
     "name": "stderr",
     "output_type": "stream",
     "text": [
      "/var/folders/5h/95y6jy4s2pb02h07pf5q7dgc0000gn/T/ipykernel_17777/3634801195.py:24: UserWarning: FigureCanvasAgg is non-interactive, and thus cannot be shown\n",
      "  fig.show()\n"
     ]
    },
    {
     "data": {
      "image/png": "[encoded data removed]",
      "text/plain": [
       "<Figure size 640x480 with 2 Axes>"
      ]
     },
     "metadata": {
      "filenames": {
       "image/png": "/Volumes/X9 Pro/Recovered Data  - EXFAT/MT_RESEARCH/2D_Petrology/mineral_conductivity/mineralconductivities/docs/build/jupyter_execute/modelsguide_8_1.png"
      }
     },
     "output_type": "display_data"
    }
   ],
   "source": [
    "import matplotlib.pyplot as plt\n",
    "import numpy as np\n",
    "import pyrrhenius.database as phsd\n",
    "import pyrrhenius.utils as pyhutils\n",
    "\n",
    "ecdatabase = phsd.Database()\n",
    "\n",
    "models = ['fei_20_ol[100]','fei_20_ol[010]', 'fei_20_ol[001]']\n",
    "\n",
    "\n",
    "T = np.linspace(400,1800,num=120) # temperature in kelvin\n",
    "\n",
    "fig, ax = plt.subplots()\n",
    "linear_major_ticks = np.asarray([2000,1400,1100,900,800,700,600,500,400])\n",
    "pyhutils.format_ax_arrhenian_space(ax,linear_major_ticks=linear_major_ticks,xlim=[5,10])\n",
    "Cw = 100 # 100 ppm water\n",
    "P = 3 # 3 GPa\n",
    "for model_id in models:\n",
    "    ecmodel = ecdatabase.get_model(model_id)\n",
    "    c = ecmodel.get_conductivity(T=T,Cw=Cw,P=P)\n",
    "    ax.plot(1e4/T,c,label=model_id)\n",
    "ax.legend()\n",
    "ax.set_ylim([1e-4,1e-1])\n",
    "fig.show()"
   ]
  },
  {
   "cell_type": "code",
   "execution_count": 10,
   "id": "4d9df38b",
   "metadata": {
    "execution": {
     "iopub.execute_input": "2024-09-06T16:40:23.495948Z",
     "iopub.status.busy": "2024-09-06T16:40:23.495786Z",
     "iopub.status.idle": "2024-09-06T16:40:23.688694Z",
     "shell.execute_reply": "2024-09-06T16:40:23.688327Z"
    }
   },
   "outputs": [
    {
     "name": "stdout",
     "output_type": "stream",
     "text": [
      "nan nan\n",
      "nan nan\n",
      "nan nan\n",
      "nan nan\n",
      "nan nan\n",
      "nan nan\n",
      "nan nan\n",
      "nan nan\n",
      "nan nan\n",
      "nan nan\n",
      "nan nan\n",
      "nan nan\n",
      "nan nan\n",
      "nan nan\n",
      "nan nan\n",
      "nan nan\n",
      "nan nan\n",
      "nan nan\n",
      "withers (2012) withers (2012)\n",
      "ppm ppm\n",
      "nan nan\n",
      "withers (2012) withers (2012)\n",
      "ppm ppm\n",
      "nan nan\n",
      "withers (2012) withers (2012)\n",
      "ppm ppm\n",
      "nan nan\n",
      "withers (2012) withers (2012)\n",
      "ppm ppm\n",
      "nan nan\n",
      "withers (2012) withers (2012)\n",
      "ppm ppm\n",
      "nan nan\n",
      "withers (2012) withers (2012)\n",
      "ppm ppm\n",
      "nan nan\n",
      "withers (2012) withers (2012)\n",
      "ppm ppm\n",
      "nan nan\n",
      "withers (2012) withers (2012)\n",
      "ppm ppm\n",
      "nan nan\n",
      "withers (2012) withers (2012)\n",
      "ppm ppm\n",
      "nan nan\n",
      "withers (2012) withers (2012)\n",
      "ppm ppm\n",
      "nan nan\n",
      "withers (2012) withers (2012)\n",
      "ppm ppm\n",
      "nan nan\n",
      "withers (2012) withers (2012)\n",
      "ppm ppm\n",
      "nan nan\n",
      "withers (2012) withers (2012)\n",
      "ppm ppm\n",
      "nan nan\n",
      "withers (2012) withers (2012)\n",
      "ppm ppm\n",
      "nan nan\n",
      "withers (2012) withers (2012)\n",
      "ppm ppm\n",
      "nan nan\n",
      "withers (2012) withers (2012)\n",
      "ppm ppm\n",
      "nan nan\n",
      "withers (2012) withers (2012)\n",
      "ppm ppm\n",
      "nan nan\n",
      "withers (2012) withers (2012)\n",
      "ppm ppm\n",
      "nan nan\n",
      "withers (2012) withers (2012)\n",
      "ppm ppm\n",
      "nan nan\n",
      "withers (2012) withers (2012)\n",
      "ppm ppm\n",
      "nan nan\n",
      "withers (2012) withers (2012)\n",
      "ppm ppm\n",
      "nan nan\n",
      "withers (2012) withers (2012)\n",
      "ppm ppm\n",
      "nan nan\n",
      "withers (2012) withers (2012)\n",
      "ppm ppm\n",
      "nan nan\n",
      "withers (2012) withers (2012)\n",
      "ppm ppm\n",
      "nan nan\n",
      "nan nan\n",
      "nan nan\n",
      "nan nan\n",
      "nan nan\n",
      "nan nan\n",
      "nan nan\n",
      "nan nan\n",
      "nan nan\n",
      "nan nan\n",
      "nan nan\n",
      "nan nan\n",
      "nan nan\n",
      "nan nan\n",
      "nan nan\n",
      "nan nan\n",
      "nan nan\n",
      "nan nan\n",
      "nan nan\n",
      "nan nan\n",
      "nan nan\n",
      "nan nan\n",
      "nan nan\n",
      "nan nan\n",
      "nan nan\n",
      "nan nan\n",
      "nan nan\n",
      "nan nan\n",
      "bell (2003) bell (2003)\n",
      "ppm ppm\n",
      "nan nan\n",
      "bell (2003) bell (2003)\n",
      "ppm ppm\n",
      "nan nan\n",
      "bell (2003) bell (2003)\n",
      "ppm ppm\n",
      "nan nan\n",
      "bell (2003) bell (2003)\n",
      "ppm ppm\n",
      "nan nan\n",
      "bell (2003) bell (2003)\n",
      "ppm ppm\n",
      "nan nan\n",
      "bell (2003) bell (2003)\n",
      "ppm ppm\n",
      "nan nan\n",
      "paterson (1982) paterson (1982)\n",
      "wtpct wtpct\n",
      "nan nan\n",
      "paterson (1982) paterson (1982)\n",
      "wtpct wtpct\n",
      "nan nan\n",
      "paterson (1982) paterson (1982)\n",
      "wtpct wtpct\n",
      "nan nan\n",
      "paterson (1982) paterson (1982)\n",
      "wtpct wtpct\n",
      "nan nan\n",
      "paterson (1982) paterson (1982)\n",
      "wtpct wtpct\n",
      "nan nan\n",
      "paterson (1982) paterson (1982)\n",
      "wtpct wtpct\n",
      "nan nan\n",
      "paterson (1982) paterson (1982)\n",
      "ppm ppm\n",
      "nan nan\n",
      "paterson (1982) paterson (1982)\n",
      "ppm ppm\n",
      "nan nan\n",
      "paterson (1982) paterson (1982)\n",
      "ppm ppm\n",
      "nan nan\n",
      "nan nan\n",
      "nan nan\n",
      "nan nan\n",
      "nan nan\n",
      "nan nan\n",
      "nan nan\n",
      "nan nan\n",
      "nan nan\n",
      "nan nan\n",
      "nan nan\n",
      "nan nan\n",
      "nan nan\n",
      "nan nan\n",
      "nan nan\n",
      "nan nan\n",
      "nan nan\n",
      "nan nan\n",
      "nan nan\n",
      "Libowitzky and rossman (1996) Libowitzky and rossman (1996)\n",
      "wtpct wtpct\n",
      "nan nan\n",
      "Libowitzky and rossman (1996) Libowitzky and rossman (1996)\n",
      "wtpct wtpct\n",
      "nan nan\n",
      "Libowitzky and rossman (1996) Libowitzky and rossman (1996)\n",
      "wtpct wtpct\n",
      "nan nan\n",
      "Libowitzky and rossman (1996) Libowitzky and rossman (1996)\n",
      "wtpct wtpct\n",
      "nan nan\n",
      "Libowitzky and rossman (1996) Libowitzky and rossman (1996)\n",
      "wtpct wtpct\n",
      "nan nan\n",
      "Libowitzky and rossman (1996) Libowitzky and rossman (1996)\n",
      "wtpct wtpct\n",
      "nan nan\n",
      "nan nan\n",
      "nan nan\n",
      "nan nan\n",
      "nan nan\n",
      "nan nan\n",
      "nan nan\n",
      "nan nan\n",
      "nan nan\n",
      "nan nan\n",
      "nan nan\n",
      "nan nan\n",
      "nan nan\n",
      "nan nan\n",
      "nan nan\n",
      "nan nan\n",
      "nan nan\n",
      "nan nan\n",
      "nan nan\n",
      "bell (1995) bell (1995)\n",
      "ppm ppm\n",
      "nan nan\n",
      "bell (1995) bell (1995)\n",
      "ppm ppm\n",
      "nan nan\n",
      "bell (1995) bell (1995)\n",
      "ppm ppm\n",
      "nan nan\n",
      "bell (1995) bell (1995)\n",
      "ppm ppm\n",
      "nan nan\n",
      "bell (1995) bell (1995)\n",
      "ppm ppm\n",
      "nan nan\n",
      "bell (1995) bell (1995)\n",
      "ppm ppm\n",
      "nan nan\n",
      "bell (2003) bell (2003)\n",
      "ppm ppm\n",
      "nan nan\n",
      "bell (2003) bell (2003)\n",
      "ppm ppm\n",
      "nan nan\n",
      "bell (2003) bell (2003)\n",
      "ppm ppm\n",
      "nan nan\n",
      "bell (2003) bell (2003)\n",
      "ppm ppm\n",
      "nan nan\n",
      "bell (2003) bell (2003)\n",
      "ppm ppm\n",
      "nan nan\n",
      "bell (2003) bell (2003)\n",
      "ppm ppm\n",
      "nan nan\n",
      "Johnson and Rossman (2003) Johnson and Rossman (2003)\n",
      "ppm ppm\n",
      "nan nan\n",
      "Johnson and Rossman (2003) Johnson and Rossman (2003)\n",
      "ppm ppm\n",
      "nan nan\n",
      "Johnson and Rossman (2003) Johnson and Rossman (2003)\n",
      "ppm ppm\n",
      "nan nan\n",
      "Johnson and Rossman (2003) Johnson and Rossman (2003)\n",
      "ppm ppm\n",
      "nan nan\n",
      "Johnson and Rossman (2003) Johnson and Rossman (2003)\n",
      "ppm ppm\n",
      "nan nan\n",
      "Johnson and Rossman (2003) Johnson and Rossman (2003)\n",
      "ppm ppm\n",
      "nan nan\n"
     ]
    },
    {
     "data": {
      "text/plain": [
       "['fei_20_ol_ionic[010]',\n",
       " 'fei_20_ol_ionic[001]',\n",
       " 'isotropic_model:dF_05_ol[100]+dF_05_ol[010]+dF_05_ol[001]',\n",
       " 'isotropic_model:fei_20_ol[100]+fei_20_ol[010]+fei_20_ol[001]',\n",
       " 'isotropic_model:fei_20_ol_ionic[100]+fei_20_ol_ionic[010]+fei_20_ol_ionic[001]',\n",
       " 'isotropic_model:gar_14_bell_ol[100]+gar_14_bell_ol[010]+gar_14_bell_ol[001]',\n",
       " 'isotropic_model:gar_14_withers_ol[100]+gar_14_withers_ol[010]+gar_14_withers_ol[001]',\n",
       " 'isotropic_model:nv_17_ol[100]+nv_17_ol[010]+nv_17_ol[001]',\n",
       " 'isotropic_model:sun_19ol[100]+sun_19ol[001]',\n",
       " 'isotropic_model:xu_2000_ol[001]+xu_2000_ol[010]+xu_2000_ol[100]',\n",
       " 'isotropic_model:y_16_ol[100]+y_16_ol[010]+y_16_ol[001]',\n",
       " 'isotropic_model:yang_12b_ol[100]+yang_12b_ol[010]+yang_12b_ol[001]']"
      ]
     },
     "execution_count": 10,
     "metadata": {},
     "output_type": "execute_result"
    }
   ],
   "source": [
    "ecdatabase = phsd.Database()\n",
    "ecdatabase.create_isotropic_models()\n",
    "ecdatabase.get_model_list_for_phase('olivine')[-12:]"
   ]
  },
  {
   "cell_type": "code",
   "execution_count": 11,
   "id": "aa02dede",
   "metadata": {
    "execution": {
     "iopub.execute_input": "2024-09-06T16:40:23.690531Z",
     "iopub.status.busy": "2024-09-06T16:40:23.690378Z",
     "iopub.status.idle": "2024-09-06T16:40:24.025555Z",
     "shell.execute_reply": "2024-09-06T16:40:24.024948Z"
    }
   },
   "outputs": [
    {
     "name": "stderr",
     "output_type": "stream",
     "text": [
      "/var/folders/5h/95y6jy4s2pb02h07pf5q7dgc0000gn/T/ipykernel_17777/348446302.py:17: UserWarning: FigureCanvasAgg is non-interactive, and thus cannot be shown\n",
      "  fig.show()\n"
     ]
    },
    {
     "data": {
      "image/png": "[encoded data removed]",
      "text/plain": [
       "<Figure size 640x480 with 2 Axes>"
      ]
     },
     "metadata": {
      "filenames": {
       "image/png": "/Volumes/X9 Pro/Recovered Data  - EXFAT/MT_RESEARCH/2D_Petrology/mineral_conductivity/mineralconductivities/docs/build/jupyter_execute/modelsguide_10_1.png"
      }
     },
     "output_type": "display_data"
    }
   ],
   "source": [
    "fig, ax = plt.subplots()\n",
    "linear_major_ticks = np.asarray([2000,1400,1100,900,800,700,600,500,400])\n",
    "pyhutils.format_ax_arrhenian_space(ax,linear_major_ticks=linear_major_ticks,xlim=[5,10])\n",
    "Cw = 100 # 100 ppm water\n",
    "P = 3 # 3 GPa\n",
    "for model_id in models:\n",
    "    ecmodel = ecdatabase.get_model(model_id)\n",
    "    c = ecmodel.get_conductivity(T=T,Cw=Cw,P=P)\n",
    "    ax.plot(1e4/T,c,label=model_id)\n",
    "\n",
    "isotropic_model_id = 'isotropic_model:fei_20_ol[100]+fei_20_ol[010]+fei_20_ol[001]'\n",
    "ecmodel = ecdatabase.get_model(isotropic_model_id)\n",
    "c = ecmodel.get_conductivity(T=T,Cw=Cw,P=P)\n",
    "ax.plot(1e4/T,c,label=model_id,linestyle='--',color='blue')\n",
    "ax.legend()\n",
    "ax.set_ylim([1e-4,1e-1])\n",
    "fig.show()"
   ]
  },
  {
   "cell_type": "code",
   "execution_count": 12,
   "id": "1e837669",
   "metadata": {
    "execution": {
     "iopub.execute_input": "2024-09-06T16:40:24.027938Z",
     "iopub.status.busy": "2024-09-06T16:40:24.027746Z",
     "iopub.status.idle": "2024-09-06T16:40:24.031632Z",
     "shell.execute_reply": "2024-09-06T16:40:24.031198Z"
    }
   },
   "outputs": [
    {
     "data": {
      "text/plain": [
       "array([9.54131586e-06, 2.32192181e-05, 5.17208096e-05, ...,\n",
       "       1.21434816e-03, 2.18061769e-03, 4.07701613e-03])"
      ]
     },
     "execution_count": 12,
     "metadata": {},
     "output_type": "execute_result"
    }
   ],
   "source": [
    "Cw = 100 # 100 ppm water\n",
    "P = 3 # 3 GPa\n",
    "T = np.linspace(1000,1500,num=10)\n",
    "physiokwargs = {'Cw':Cw,'P':P,'T':T}\n",
    "conductivity = ecmodel.get_conductivity(**physiokwargs)\n",
    "conductivity"
   ]
  },
  {
   "cell_type": "code",
   "execution_count": 13,
   "id": "e9fbf606",
   "metadata": {
    "execution": {
     "iopub.execute_input": "2024-09-06T16:40:24.033479Z",
     "iopub.status.busy": "2024-09-06T16:40:24.033337Z",
     "iopub.status.idle": "2024-09-06T16:40:24.036739Z",
     "shell.execute_reply": "2024-09-06T16:40:24.036366Z"
    }
   },
   "outputs": [
    {
     "data": {
      "text/plain": [
       "array([2.40550310e-05, 5.85447366e-05, 1.30385620e-04, ...,\n",
       "       2.92689511e-03, 5.07132817e-03, 9.06025978e-03])"
      ]
     },
     "execution_count": 13,
     "metadata": {},
     "output_type": "execute_result"
    }
   ],
   "source": [
    "conductivity = ecmodel.get_conductivity(averaging='max_aniso',**physiokwargs)\n",
    "conductivity"
   ]
  },
  {
   "cell_type": "code",
   "execution_count": 14,
   "id": "48ac1fbe",
   "metadata": {
    "execution": {
     "iopub.execute_input": "2024-09-06T16:40:24.038445Z",
     "iopub.status.busy": "2024-09-06T16:40:24.038303Z",
     "iopub.status.idle": "2024-09-06T16:40:24.041159Z",
     "shell.execute_reply": "2024-09-06T16:40:24.040860Z"
    }
   },
   "outputs": [
    {
     "data": {
      "text/plain": [
       "array([1.85038547e-06, 5.17375901e-06, 1.30593207e-05, ...,\n",
       "       5.02547241e-04, 9.90020304e-04, 2.03826257e-03])"
      ]
     },
     "execution_count": 14,
     "metadata": {},
     "output_type": "execute_result"
    }
   ],
   "source": [
    "conductivity = ecmodel.get_conductivity(averaging='min_aniso',**physiokwargs)\n",
    "conductivity"
   ]
  },
  {
   "cell_type": "code",
   "execution_count": 15,
   "id": "c8a9e749",
   "metadata": {
    "execution": {
     "iopub.execute_input": "2024-09-06T16:40:24.043007Z",
     "iopub.status.busy": "2024-09-06T16:40:24.042827Z",
     "iopub.status.idle": "2024-09-06T16:40:24.045821Z",
     "shell.execute_reply": "2024-09-06T16:40:24.045477Z"
    }
   },
   "outputs": [
    {
     "data": {
      "text/plain": [
       "array([1.95144667e-05, 4.13284124e-05, 8.12541700e-05, ...,\n",
       "       1.21743450e-03, 2.06525070e-03, 3.66966574e-03])"
      ]
     },
     "execution_count": 15,
     "metadata": {},
     "output_type": "execute_result"
    }
   ],
   "source": [
    "conductivity = ecmodel.get_conductivity(crystal_direction='[100]',**physiokwargs)\n",
    "conductivity"
   ]
  },
  {
   "cell_type": "code",
   "execution_count": 16,
   "id": "a42bc249",
   "metadata": {
    "execution": {
     "iopub.execute_input": "2024-09-06T16:40:24.047731Z",
     "iopub.status.busy": "2024-09-06T16:40:24.047549Z",
     "iopub.status.idle": "2024-09-06T16:40:24.051042Z",
     "shell.execute_reply": "2024-09-06T16:40:24.050704Z"
    }
   },
   "outputs": [
    {
     "data": {
      "text/plain": [
       "array([1.29527083e-05, 3.18592478e-05, 7.17224706e-05, ...,\n",
       "       1.71472118e-03, 3.03067424e-03, 5.54926118e-03])"
      ]
     },
     "execution_count": 16,
     "metadata": {},
     "output_type": "execute_result"
    }
   ],
   "source": [
    "conductivity = ecmodel.get_conductivity(crystal_direction=0.5,**physiokwargs)\n",
    "conductivity"
   ]
  },
  {
   "cell_type": "code",
   "execution_count": 17,
   "id": "5e11242e",
   "metadata": {
    "execution": {
     "iopub.execute_input": "2024-09-06T16:40:24.052797Z",
     "iopub.status.busy": "2024-09-06T16:40:24.052676Z",
     "iopub.status.idle": "2024-09-06T16:40:24.056419Z",
     "shell.execute_reply": "2024-09-06T16:40:24.056093Z"
    }
   },
   "outputs": [
    {
     "name": "stdout",
     "output_type": "stream",
     "text": [
      "Anisotropic Factors: [0.41393503 0.11618761 0.50551    ... 0.20663594 0.74778231 0.3740369 ]\n"
     ]
    },
    {
     "data": {
      "text/plain": [
       "array([1.10416660e-05, 1.13748054e-05, 7.23689379e-05, ...,\n",
       "       1.00350464e-03, 4.04195014e-03, 4.66474865e-03])"
      ]
     },
     "execution_count": 17,
     "metadata": {},
     "output_type": "execute_result"
    }
   ],
   "source": [
    "import numpy as np\n",
    "\n",
    "# Provide an array of anisotropic factors for batch querying\n",
    "factors = np.random.uniform(0,1,size=len(T))\n",
    "print(f'Anisotropic Factors: {factors}')\n",
    "conductivity = ecmodel.get_conductivity(crystal_direction=factors,**physiokwargs)\n",
    "conductivity"
   ]
  },
  {
   "cell_type": "code",
   "execution_count": 18,
   "id": "b7a8466a",
   "metadata": {
    "execution": {
     "iopub.execute_input": "2024-09-06T16:40:24.058117Z",
     "iopub.status.busy": "2024-09-06T16:40:24.057980Z",
     "iopub.status.idle": "2024-09-06T16:40:24.382226Z",
     "shell.execute_reply": "2024-09-06T16:40:24.381891Z"
    }
   },
   "outputs": [
    {
     "name": "stdout",
     "output_type": "stream",
     "text": [
      "[1.85038547e-06 5.17375901e-06 1.30593207e-05 ... 5.02547241e-04\n",
      " 9.90020304e-04 2.03826257e-03]\n",
      "[10.          9.47368421  9.         ...  7.2         6.92307692\n",
      "  6.66666667]\n",
      "[2.40550310e-05 5.85447366e-05 1.30385620e-04 ... 2.92689511e-03\n",
      " 5.07132817e-03 9.06025978e-03]\n",
      "[10.          9.47368421  9.         ...  7.2         6.92307692\n",
      "  6.66666667]\n",
      "[9.54131586e-06 2.32192181e-05 5.17208096e-05 ... 1.21434816e-03\n",
      " 2.18061769e-03 4.07701613e-03]\n",
      "[10.          9.47368421  9.         ...  7.2         6.92307692\n",
      "  6.66666667]\n"
     ]
    },
    {
     "name": "stderr",
     "output_type": "stream",
     "text": [
      "/var/folders/5h/95y6jy4s2pb02h07pf5q7dgc0000gn/T/ipykernel_17777/3978061993.py:26: UserWarning: FigureCanvasAgg is non-interactive, and thus cannot be shown\n",
      "  fig.show()\n"
     ]
    },
    {
     "data": {
      "image/png": "[encoded data removed]",
      "text/plain": [
       "<Figure size 640x480 with 2 Axes>"
      ]
     },
     "metadata": {
      "filenames": {
       "image/png": "/Volumes/X9 Pro/Recovered Data  - EXFAT/MT_RESEARCH/2D_Petrology/mineral_conductivity/mineralconductivities/docs/build/jupyter_execute/modelsguide_17_2.png"
      }
     },
     "output_type": "display_data"
    }
   ],
   "source": [
    "fig, ax = plt.subplots()\n",
    "linear_major_ticks = np.asarray([2000,1400,1100,900,800,700,600,500,400])\n",
    "pyhutils.format_ax_arrhenian_space(ax,linear_major_ticks=linear_major_ticks,xlim=[5,10])\n",
    "\n",
    "# Physiochemical states\n",
    "Cw = 100 #(100 ppm water)\n",
    "P = 3 # 3 GPa\n",
    "T = np.linspace(1000,1500,num=10)\n",
    "physiokwargs = {'Cw':Cw,'P':P,'T':T}\n",
    "\n",
    "\n",
    "isotropic_model_id = 'isotropic_model:fei_20_ol[100]+fei_20_ol[010]+fei_20_ol[001]'\n",
    "ecmodel = ecdatabase.get_model(isotropic_model_id)\n",
    "\n",
    "for averaging in ['min_aniso','max_aniso','geometric']:\n",
    "    c = ecmodel.get_conductivity(averaging=averaging,**physiokwargs)\n",
    "    print(c)\n",
    "    print(1e4/T)\n",
    "    ax.plot(1e4/T,c,label=averaging,linewidth=2)\n",
    "\n",
    "for factor in [0,0.3,0.5,0.6,1.0]:\n",
    "    c = ecmodel.get_conductivity(crystal_direction=factor,**physiokwargs)\n",
    "    ax.plot(1e4/T,c,label=f'f={factor}',linestyle='--',linewidth=1,marker='+')\n",
    "ax.legend()\n",
    "ax.set_ylim([1e-4,1e-1])\n",
    "fig.show()"
   ]
  },
  {
   "cell_type": "code",
   "execution_count": 19,
   "id": "fd482f3d",
   "metadata": {
    "execution": {
     "iopub.execute_input": "2024-09-06T16:40:24.384126Z",
     "iopub.status.busy": "2024-09-06T16:40:24.383972Z",
     "iopub.status.idle": "2024-09-06T16:40:24.546191Z",
     "shell.execute_reply": "2024-09-06T16:40:24.545702Z"
    }
   },
   "outputs": [],
   "source": [
    "from pyrrhenius.database import Database\n",
    "\n",
    "ecdatabase = Database()\n",
    "\n",
    "dry_model = ecdatabase.get_model('SEO3_ol')\n",
    "novella_models =['nv_17_ol[100]','nv_17_ol[010]','nv_17_ol[001]']\n",
    "fei_models = ['fei_20_ol_ionic[100]','fei_20_ol_ionic[010]', 'fei_20_ol_ionic[001]']"
   ]
  },
  {
   "cell_type": "code",
   "execution_count": 20,
   "id": "66351208",
   "metadata": {
    "execution": {
     "iopub.execute_input": "2024-09-06T16:40:24.549076Z",
     "iopub.status.busy": "2024-09-06T16:40:24.548512Z",
     "iopub.status.idle": "2024-09-06T16:40:24.565332Z",
     "shell.execute_reply": "2024-09-06T16:40:24.564916Z"
    }
   },
   "outputs": [
    {
     "name": "stdout",
     "output_type": "stream",
     "text": [
      "********************\n",
      "nv_17_ol[100]\n",
      "[3.50705631e-05 9.90950092e-04 1.30542793e-02 ... 1.80010978e+01\n",
      " 4.20468535e+01 8.79148355e+01]\n",
      "nan bell (2003)\n",
      "nan ppm\n",
      "nan nan\n",
      "nan bell (2003)\n",
      "nan ppm\n",
      "nan nan\n",
      "nan bell (2003)\n",
      "nan ppm\n",
      "nan nan\n",
      "[3.62561072e-05 1.00357414e-03 1.31427507e-02 ... 1.83972555e+01\n",
      " 4.37197301e+01 9.39204533e+01]\n",
      "old ec model representation:nv_17_ol[100]:{1.8e+42(nan) Cw * 10^-0.7(0.9) * exp(2.373417751(0.186556854)/kT)/kT}\n",
      "new ec model representation:{nv_17_ol[100]+SEO3_ol}\n",
      "********************\n",
      "nv_17_ol[010]\n",
      "[1.66824213e-06 1.98422234e-05 1.33579471e-04 ... 2.72729762e-02\n",
      " 5.06947206e-02 8.68055584e-02]\n",
      "nan bell (2003)\n",
      "nan ppm\n",
      "nan nan\n",
      "nan bell (2003)\n",
      "nan ppm\n",
      "nan nan\n",
      "nan bell (2003)\n",
      "nan ppm\n",
      "nan nan\n",
      "[2.85378621e-06 3.24662702e-05 2.22050961e-04 ... 4.23430675e-01\n",
      " 1.72357132e+00 6.09242337e+00]\n",
      "old ec model representation:nv_17_ol[010]:{1.8e+42(nan) Cw * 10^-5.0(0.9) * exp(1.782654381(0.196921123)/kT)/kT}\n",
      "new ec model representation:{nv_17_ol[010]+SEO3_ol}\n",
      "********************\n",
      "nv_17_ol[001]\n",
      "[7.70053971e-06 1.16770705e-04 9.49122714e-04 ... 3.31262475e-01\n",
      " 6.56521973e-01 1.18900374e+00]\n",
      "nan bell (2003)\n",
      "nan ppm\n",
      "nan nan\n",
      "nan bell (2003)\n",
      "nan ppm\n",
      "nan nan\n",
      "nan bell (2003)\n",
      "nan ppm\n",
      "nan nan\n",
      "[8.88608380e-06 1.29394752e-04 1.03759420e-03 ... 7.27420174e-01\n",
      " 2.32939857e+00 7.19462156e+00]\n",
      "old ec model representation:nv_17_ol[001]:{1.8e+42(nan) Cw * 10^-3.5(0.4) * exp(1.948482695(0.082914157)/kT)/kT}\n",
      "new ec model representation:{nv_17_ol[001]+SEO3_ol}\n",
      "********************\n",
      "fei_20_ol_ionic[100]\n",
      "[7.23469940e-09 9.04702653e-07 3.77916203e-05 ... 1.38987350e+00\n",
      " 4.80779309e+00 1.41706718e+01]\n",
      "nan withers (2012)\n",
      "nan ppm\n",
      "nan nan\n",
      "nan withers (2012)\n",
      "nan ppm\n",
      "nan nan\n",
      "nan withers (2012)\n",
      "nan ppm\n",
      "nan nan\n",
      "[1.19277878e-06 1.35287494e-05 1.26263111e-04 ... 1.78603120e+00\n",
      " 6.48066969e+00 2.01762897e+01]\n",
      "old ec model representation:fei_20_ol_ionic[100]:{Cw^1.3(0.2) 10^9.9(5.00E-01) exp(-(3.492758874(0.155464045) + P4.2(0.4))/kT)/T}\n",
      "new ec model representation:{fei_20_ol_ionic[100]+SEO3_ol}\n",
      "********************\n",
      "fei_20_ol_ionic[010]\n",
      "[4.30852962e-10 1.36803548e-07 1.17751141e-05 ... 3.38772410e+00\n",
      " 1.49869656e+01 5.47740243e+01]\n",
      "nan withers (2012)\n",
      "nan ppm\n",
      "nan nan\n",
      "nan withers (2012)\n",
      "nan ppm\n",
      "nan nan\n",
      "nan withers (2012)\n",
      "nan ppm\n",
      "nan nan\n",
      "[1.18597494e-06 1.27608503e-05 1.00246605e-04 ... 3.78388180e+00\n",
      " 1.66598422e+01 6.07796421e+01]\n",
      "old ec model representation:fei_20_ol_ionic[010]:{Cw^1.3(0.2) 10^11.6(4.00E-01) exp(-(4.104250784(0.259106741) + P3.2(0.2))/kT)/T}\n",
      "new ec model representation:{fei_20_ol_ionic[010]+SEO3_ol}\n",
      "********************\n",
      "fei_20_ol_ionic[001]\n",
      "[1.76960339e-09 4.60233007e-07 3.39315979e-05 ... 6.28384594e+00\n",
      " 2.63725119e+01 9.20463369e+01]\n",
      "nan withers (2012)\n",
      "nan ppm\n",
      "nan nan\n",
      "nan withers (2012)\n",
      "nan ppm\n",
      "nan nan\n",
      "nan withers (2012)\n",
      "nan ppm\n",
      "nan nan\n",
      "[1.18731369e-06 1.30842797e-05 1.22403088e-04 ... 6.68000363e+00\n",
      " 2.80453885e+01 9.80519547e+01]\n",
      "old ec model representation:fei_20_ol_ionic[001]:{Cw^1.3(0.2) 10^11.78(4.00E-01) exp(-(3.990243818(0.155464045) + P4.1(0.4))/kT)/T}\n",
      "new ec model representation:{fei_20_ol_ionic[001]+SEO3_ol}\n"
     ]
    },
    {
     "name": "stderr",
     "output_type": "stream",
     "text": [
      "/Volumes/X9 Pro/Recovered Data  - EXFAT/MT_RESEARCH/2D_Petrology/mineral_conductivity/mineralconductivities/pyrrhenius/database.py:127: FutureWarning: The behavior of DataFrame concatenation with empty or all-NA entries is deprecated. In a future version, this will no longer exclude empty or all-NA columns when determining the result dtypes. To retain the old behavior, exclude the relevant entries before the concat operation.\n",
      "  self.database = pd.concat([self.database, db_row], ignore_index=True)\n",
      "/Volumes/X9 Pro/Recovered Data  - EXFAT/MT_RESEARCH/2D_Petrology/mineral_conductivity/mineralconductivities/pyrrhenius/database.py:127: FutureWarning: The behavior of DataFrame concatenation with empty or all-NA entries is deprecated. In a future version, this will no longer exclude empty or all-NA columns when determining the result dtypes. To retain the old behavior, exclude the relevant entries before the concat operation.\n",
      "  self.database = pd.concat([self.database, db_row], ignore_index=True)\n",
      "/Volumes/X9 Pro/Recovered Data  - EXFAT/MT_RESEARCH/2D_Petrology/mineral_conductivity/mineralconductivities/pyrrhenius/database.py:127: FutureWarning: The behavior of DataFrame concatenation with empty or all-NA entries is deprecated. In a future version, this will no longer exclude empty or all-NA columns when determining the result dtypes. To retain the old behavior, exclude the relevant entries before the concat operation.\n",
      "  self.database = pd.concat([self.database, db_row], ignore_index=True)\n",
      "/Volumes/X9 Pro/Recovered Data  - EXFAT/MT_RESEARCH/2D_Petrology/mineral_conductivity/mineralconductivities/pyrrhenius/database.py:127: FutureWarning: The behavior of DataFrame concatenation with empty or all-NA entries is deprecated. In a future version, this will no longer exclude empty or all-NA columns when determining the result dtypes. To retain the old behavior, exclude the relevant entries before the concat operation.\n",
      "  self.database = pd.concat([self.database, db_row], ignore_index=True)\n",
      "/Volumes/X9 Pro/Recovered Data  - EXFAT/MT_RESEARCH/2D_Petrology/mineral_conductivity/mineralconductivities/pyrrhenius/database.py:127: FutureWarning: The behavior of DataFrame concatenation with empty or all-NA entries is deprecated. In a future version, this will no longer exclude empty or all-NA columns when determining the result dtypes. To retain the old behavior, exclude the relevant entries before the concat operation.\n",
      "  self.database = pd.concat([self.database, db_row], ignore_index=True)\n",
      "/Volumes/X9 Pro/Recovered Data  - EXFAT/MT_RESEARCH/2D_Petrology/mineral_conductivity/mineralconductivities/pyrrhenius/database.py:127: FutureWarning: The behavior of DataFrame concatenation with empty or all-NA entries is deprecated. In a future version, this will no longer exclude empty or all-NA columns when determining the result dtypes. To retain the old behavior, exclude the relevant entries before the concat operation.\n",
      "  self.database = pd.concat([self.database, db_row], ignore_index=True)\n"
     ]
    }
   ],
   "source": [
    "from pyrrhenius.utils import calc_QFM\n",
    "T = np.linspace(1000,2300,num=10) # in K\n",
    "P = np.linspace(3,10,num=10) # in GPa\n",
    "qfm = calc_QFM(T,P)\n",
    "Cw = 300 # (in ppm)\n",
    "physiochem = {'T':T,'P':P,'Cw':Cw,'logfo2':qfm}\n",
    "models_to_composite = novella_models+fei_models\n",
    "\n",
    "for id in models_to_composite:\n",
    "    print('*'*20)\n",
    "    print(id)\n",
    "    ecmodel = ecdatabase.get_model(id)\n",
    "    print(ecmodel.get_conductivity(**physiochem))\n",
    "    new_ecmodel = ecmodel + dry_model\n",
    "    print(new_ecmodel.get_conductivity(**physiochem))\n",
    "    print(f'old ec model representation:{ecmodel}')\n",
    "    print(f'new ec model representation:{new_ecmodel}')\n",
    "    ecdatabase.register_new_model(new_ecmodel)"
   ]
  },
  {
   "cell_type": "code",
   "execution_count": 21,
   "id": "c961ced7",
   "metadata": {
    "execution": {
     "iopub.execute_input": "2024-09-06T16:40:24.567573Z",
     "iopub.status.busy": "2024-09-06T16:40:24.567401Z",
     "iopub.status.idle": "2024-09-06T16:40:24.598509Z",
     "shell.execute_reply": "2024-09-06T16:40:24.598156Z"
    }
   },
   "outputs": [
    {
     "name": "stdout",
     "output_type": "stream",
     "text": [
      "nan nan\n",
      "nan nan\n",
      "nan nan\n",
      "nan nan\n",
      "nan nan\n",
      "nan nan\n",
      "nan nan\n",
      "nan nan\n",
      "nan nan\n",
      "nan nan\n",
      "nan nan\n",
      "nan nan\n",
      "nan nan\n",
      "nan nan\n",
      "nan nan\n",
      "nan nan\n",
      "nan nan\n",
      "nan nan\n",
      "withers (2012) withers (2012)\n",
      "ppm ppm\n",
      "nan nan\n",
      "withers (2012) withers (2012)\n",
      "ppm ppm\n",
      "nan nan\n",
      "withers (2012) withers (2012)\n",
      "ppm ppm\n",
      "nan nan\n",
      "withers (2012) withers (2012)\n",
      "ppm ppm\n",
      "nan nan\n",
      "withers (2012) withers (2012)\n",
      "ppm ppm\n",
      "nan nan\n",
      "withers (2012) withers (2012)\n",
      "ppm ppm\n",
      "nan nan\n",
      "withers (2012) withers (2012)\n",
      "ppm ppm\n",
      "nan nan\n",
      "withers (2012) withers (2012)\n",
      "ppm ppm\n",
      "nan nan\n",
      "withers (2012) withers (2012)\n",
      "ppm ppm\n",
      "nan nan\n",
      "withers (2012) withers (2012)\n",
      "ppm ppm\n",
      "nan nan\n",
      "withers (2012) withers (2012)\n",
      "ppm ppm\n",
      "nan nan\n",
      "withers (2012) withers (2012)\n",
      "ppm ppm\n",
      "nan nan\n",
      "nan nan\n",
      "nan nan\n",
      "nan nan\n",
      "nan nan\n",
      "nan nan\n",
      "nan nan\n",
      "nan nan\n",
      "nan nan\n",
      "nan nan\n",
      "nan nan\n",
      "nan nan\n",
      "nan nan\n",
      "nan nan\n",
      "nan nan\n",
      "nan nan\n",
      "nan nan\n",
      "nan nan\n",
      "nan nan\n",
      "withers (2012) withers (2012)\n",
      "ppm ppm\n",
      "nan nan\n",
      "withers (2012) withers (2012)\n",
      "ppm ppm\n",
      "nan nan\n",
      "withers (2012) withers (2012)\n",
      "ppm ppm\n",
      "nan nan\n",
      "withers (2012) withers (2012)\n",
      "ppm ppm\n",
      "nan nan\n",
      "withers (2012) withers (2012)\n",
      "ppm ppm\n",
      "nan nan\n",
      "withers (2012) withers (2012)\n",
      "ppm ppm\n",
      "nan nan\n",
      "withers (2012) withers (2012)\n",
      "ppm ppm\n",
      "nan nan\n",
      "withers (2012) withers (2012)\n",
      "ppm ppm\n",
      "nan nan\n",
      "withers (2012) withers (2012)\n",
      "ppm ppm\n",
      "nan nan\n",
      "withers (2012) withers (2012)\n",
      "ppm ppm\n",
      "nan nan\n",
      "withers (2012) withers (2012)\n",
      "ppm ppm\n",
      "nan nan\n",
      "withers (2012) withers (2012)\n",
      "ppm ppm\n",
      "nan nan\n",
      "nan nan\n",
      "nan nan\n",
      "nan nan\n",
      "nan nan\n",
      "nan nan\n",
      "nan nan\n",
      "nan nan\n",
      "nan nan\n",
      "nan nan\n",
      "nan nan\n",
      "nan nan\n",
      "nan nan\n",
      "nan nan\n",
      "nan nan\n",
      "nan nan\n",
      "nan nan\n",
      "nan nan\n",
      "nan nan\n",
      "nan nan\n",
      "nan nan\n",
      "nan nan\n",
      "nan nan\n",
      "nan nan\n",
      "nan nan\n",
      "nan nan\n",
      "nan nan\n",
      "nan nan\n",
      "bell (2003) bell (2003)\n",
      "ppm ppm\n",
      "nan nan\n",
      "bell (2003) bell (2003)\n",
      "ppm ppm\n",
      "nan nan\n",
      "bell (2003) bell (2003)\n",
      "ppm ppm\n",
      "nan nan\n",
      "bell (2003) bell (2003)\n",
      "ppm ppm\n",
      "nan nan\n",
      "bell (2003) bell (2003)\n",
      "ppm ppm\n",
      "nan nan\n",
      "bell (2003) bell (2003)\n",
      "ppm ppm\n",
      "nan nan\n",
      "nan nan\n",
      "nan nan\n",
      "nan nan\n",
      "nan nan\n",
      "nan nan\n",
      "nan nan\n",
      "nan nan\n",
      "nan nan\n",
      "nan nan\n",
      "nan nan\n",
      "nan nan\n",
      "nan nan\n",
      "nan nan\n",
      "nan nan\n",
      "nan nan\n",
      "nan nan\n",
      "nan nan\n",
      "nan nan\n",
      "paterson (1982) paterson (1982)\n",
      "wtpct wtpct\n",
      "nan nan\n",
      "paterson (1982) paterson (1982)\n",
      "wtpct wtpct\n",
      "nan nan\n",
      "paterson (1982) paterson (1982)\n",
      "wtpct wtpct\n",
      "nan nan\n",
      "paterson (1982) paterson (1982)\n",
      "wtpct wtpct\n",
      "nan nan\n",
      "paterson (1982) paterson (1982)\n",
      "wtpct wtpct\n",
      "nan nan\n",
      "paterson (1982) paterson (1982)\n",
      "wtpct wtpct\n",
      "nan nan\n",
      "paterson (1982) paterson (1982)\n",
      "ppm ppm\n",
      "nan nan\n",
      "paterson (1982) paterson (1982)\n",
      "ppm ppm\n",
      "nan nan\n",
      "paterson (1982) paterson (1982)\n",
      "ppm ppm\n",
      "nan nan\n",
      "nan nan\n",
      "nan nan\n",
      "nan nan\n",
      "nan nan\n",
      "nan nan\n",
      "nan nan\n",
      "nan nan\n",
      "nan nan\n",
      "nan nan\n",
      "nan nan\n",
      "nan nan\n",
      "nan nan\n",
      "nan nan\n",
      "nan nan\n",
      "nan nan\n",
      "nan nan\n",
      "nan nan\n",
      "nan nan\n",
      "Libowitzky and rossman (1996) Libowitzky and rossman (1996)\n",
      "wtpct wtpct\n",
      "nan nan\n",
      "Libowitzky and rossman (1996) Libowitzky and rossman (1996)\n",
      "wtpct wtpct\n",
      "nan nan\n",
      "Libowitzky and rossman (1996) Libowitzky and rossman (1996)\n",
      "wtpct wtpct\n",
      "nan nan\n",
      "Libowitzky and rossman (1996) Libowitzky and rossman (1996)\n",
      "wtpct wtpct\n",
      "nan nan\n",
      "Libowitzky and rossman (1996) Libowitzky and rossman (1996)\n",
      "wtpct wtpct\n",
      "nan nan\n",
      "Libowitzky and rossman (1996) Libowitzky and rossman (1996)\n",
      "wtpct wtpct\n",
      "nan nan\n",
      "nan nan\n",
      "nan nan\n",
      "nan nan\n",
      "nan nan\n",
      "nan nan\n",
      "nan nan\n",
      "nan nan\n",
      "nan nan\n",
      "nan nan\n",
      "nan nan\n",
      "nan nan\n",
      "nan nan\n",
      "nan nan\n",
      "nan nan\n",
      "nan nan\n",
      "nan nan\n",
      "nan nan\n",
      "nan nan\n",
      "bell (1995) bell (1995)\n",
      "ppm ppm\n",
      "nan nan\n",
      "bell (1995) bell (1995)\n",
      "ppm ppm\n",
      "nan nan\n",
      "bell (1995) bell (1995)\n",
      "ppm ppm\n",
      "nan nan\n",
      "bell (1995) bell (1995)\n",
      "ppm ppm\n",
      "nan nan\n",
      "bell (1995) bell (1995)\n",
      "ppm ppm\n",
      "nan nan\n",
      "bell (1995) bell (1995)\n",
      "ppm ppm\n",
      "nan nan\n",
      "bell (2003) bell (2003)\n",
      "ppm ppm\n",
      "nan nan\n",
      "bell (2003) bell (2003)\n",
      "ppm ppm\n",
      "nan nan\n",
      "bell (2003) bell (2003)\n",
      "ppm ppm\n",
      "nan nan\n",
      "bell (2003) bell (2003)\n",
      "ppm ppm\n",
      "nan nan\n",
      "bell (2003) bell (2003)\n",
      "ppm ppm\n",
      "nan nan\n",
      "bell (2003) bell (2003)\n",
      "ppm ppm\n",
      "nan nan\n",
      "Johnson and Rossman (2003) Johnson and Rossman (2003)\n",
      "ppm ppm\n",
      "nan nan\n",
      "Johnson and Rossman (2003) Johnson and Rossman (2003)\n",
      "ppm ppm\n",
      "nan nan\n",
      "Johnson and Rossman (2003) Johnson and Rossman (2003)\n",
      "ppm ppm\n",
      "nan nan\n",
      "Johnson and Rossman (2003) Johnson and Rossman (2003)\n",
      "ppm ppm\n",
      "nan nan\n",
      "Johnson and Rossman (2003) Johnson and Rossman (2003)\n",
      "ppm ppm\n",
      "nan nan\n",
      "Johnson and Rossman (2003) Johnson and Rossman (2003)\n",
      "ppm ppm\n",
      "nan nan\n"
     ]
    },
    {
     "data": {
      "text/plain": [
       "['fei_20_ol_ionic[010]',\n",
       " 'fei_20_ol_ionic[001]',\n",
       " 'nv_17_ol[100]+SEO3_ol',\n",
       " 'nv_17_ol[010]+SEO3_ol',\n",
       " 'nv_17_ol[001]+SEO3_ol',\n",
       " 'fei_20_ol_ionic[100]+SEO3_ol',\n",
       " 'fei_20_ol_ionic[010]+SEO3_ol',\n",
       " 'fei_20_ol_ionic[001]+SEO3_ol',\n",
       " 'isotropic_model:dF_05_ol[100]+dF_05_ol[010]+dF_05_ol[001]',\n",
       " 'isotropic_model:fei_20_ol[100]+fei_20_ol[010]+fei_20_ol[001]',\n",
       " 'isotropic_model:fei_20_ol_ionic[100]+fei_20_ol_ionic[010]+fei_20_ol_ionic[001]',\n",
       " 'isotropic_model:fei_20_ol_ionic[100]+SEO3_ol+fei_20_ol_ionic[010]+SEO3_ol+fei_20_ol_ionic[001]+SEO3_ol',\n",
       " 'isotropic_model:gar_14_bell_ol[100]+gar_14_bell_ol[010]+gar_14_bell_ol[001]',\n",
       " 'isotropic_model:gar_14_withers_ol[100]+gar_14_withers_ol[010]+gar_14_withers_ol[001]',\n",
       " 'isotropic_model:nv_17_ol[100]+nv_17_ol[010]+nv_17_ol[001]',\n",
       " 'isotropic_model:nv_17_ol[100]+SEO3_ol+nv_17_ol[010]+SEO3_ol+nv_17_ol[001]+SEO3_ol',\n",
       " 'isotropic_model:sun_19ol[100]+sun_19ol[001]',\n",
       " 'isotropic_model:xu_2000_ol[001]+xu_2000_ol[010]+xu_2000_ol[100]',\n",
       " 'isotropic_model:y_16_ol[100]+y_16_ol[010]+y_16_ol[001]',\n",
       " 'isotropic_model:yang_12b_ol[100]+yang_12b_ol[010]+yang_12b_ol[001]']"
      ]
     },
     "execution_count": 21,
     "metadata": {},
     "output_type": "execute_result"
    }
   ],
   "source": [
    "ecdatabase.create_isotropic_models()\n",
    "model_list = ecdatabase.get_model_list_for_phase('olivine')\n",
    "model_list[-20:]"
   ]
  },
  {
   "cell_type": "code",
   "execution_count": 22,
   "id": "a1b0d426",
   "metadata": {
    "execution": {
     "iopub.execute_input": "2024-09-06T16:40:24.601304Z",
     "iopub.status.busy": "2024-09-06T16:40:24.601043Z",
     "iopub.status.idle": "2024-09-06T16:40:24.603949Z",
     "shell.execute_reply": "2024-09-06T16:40:24.603607Z"
    }
   },
   "outputs": [],
   "source": [
    "from pyrrhenius.utils import calc_QFM\n",
    "T = np.linspace(1000,3000,num=10) # in K\n",
    "P = np.linspace(3,10,num=10) # in GPa\n",
    "qfm = calc_QFM(T,P)\n",
    "Cw = 300# (in ppm)\n",
    "physiochem = {'T':T,'P':P,'Cw':Cw,'logfo2':qfm}"
   ]
  },
  {
   "cell_type": "code",
   "execution_count": 23,
   "id": "1c9e3ffc",
   "metadata": {
    "execution": {
     "iopub.execute_input": "2024-09-06T16:40:24.605790Z",
     "iopub.status.busy": "2024-09-06T16:40:24.605591Z",
     "iopub.status.idle": "2024-09-06T16:40:24.930742Z",
     "shell.execute_reply": "2024-09-06T16:40:24.930396Z"
    }
   },
   "outputs": [
    {
     "name": "stderr",
     "output_type": "stream",
     "text": [
      "/var/folders/5h/95y6jy4s2pb02h07pf5q7dgc0000gn/T/ipykernel_17777/2995247542.py:23: UserWarning: FigureCanvasAgg is non-interactive, and thus cannot be shown\n",
      "  fig.show()\n"
     ]
    },
    {
     "data": {
      "image/png": "[encoded data removed]",
      "text/plain": [
       "<Figure size 640x480 with 2 Axes>"
      ]
     },
     "metadata": {
      "filenames": {
       "image/png": "/Volumes/X9 Pro/Recovered Data  - EXFAT/MT_RESEARCH/2D_Petrology/mineral_conductivity/mineralconductivities/docs/build/jupyter_execute/modelsguide_22_1.png"
      }
     },
     "output_type": "display_data"
    }
   ],
   "source": [
    "fig, ax = plt.subplots()\n",
    "linear_major_ticks = np.asarray([2000,1400,1100,900,800,700,600,500,400])\n",
    "pyhutils.format_ax_arrhenian_space(ax,linear_major_ticks=linear_major_ticks,xlim=[5,10])\n",
    "\n",
    "\n",
    "fei_ionic_isotropic  = 'isotropic_model:fei_20_ol_ionic[100]+fei_20_ol_ionic[010]+fei_20_ol_ionic[001]'\n",
    "novella_isotropic    = 'isotropic_model:nv_17_ol[100]+nv_17_ol[010]+nv_17_ol[001]'\n",
    "fei_ionic_compound   = 'isotropic_model:fei_20_ol_ionic[100]+SEO3_ol+fei_20_ol_ionic[010]+SEO3_ol+fei_20_ol_ionic[001]+SEO3_ol'\n",
    "novella_wet_compound = 'isotropic_model:nv_17_ol[100]+SEO3_ol+nv_17_ol[010]+SEO3_ol+nv_17_ol[001]+SEO3_ol'\n",
    "ecmodel = ecdatabase.get_model('SEO3_ol')\n",
    "c = ecmodel.get_conductivity(**physiochem)\n",
    "ax.plot(1e4/T,c,label='SEO3 Olivine',linewidth=2)\n",
    "\n",
    "for label, model_id in zip(['isotropic fei','isotropic novella','iso fei w SEO3', 'iso Novella w SEO3'],\n",
    "                    [fei_ionic_isotropic,novella_isotropic,fei_ionic_compound,novella_wet_compound ]):\n",
    "    ecmodel = ecdatabase.get_model(model_id)\n",
    "    c = ecmodel.get_conductivity(**physiochem)\n",
    "    ax.plot(1e4/T,c,label=label,linewidth=2)\n",
    "\n",
    "\n",
    "ax.legend()\n",
    "ax.set_ylim([1e-4,1])\n",
    "fig.show()"
   ]
  },
  {
   "cell_type": "code",
   "execution_count": 24,
   "id": "18ddc7e1",
   "metadata": {
    "execution": {
     "iopub.execute_input": "2024-09-06T16:40:24.932716Z",
     "iopub.status.busy": "2024-09-06T16:40:24.932562Z",
     "iopub.status.idle": "2024-09-06T16:40:25.114688Z",
     "shell.execute_reply": "2024-09-06T16:40:25.114352Z"
    }
   },
   "outputs": [
    {
     "name": "stdout",
     "output_type": "stream",
     "text": [
      "nan nan\n",
      "nan nan\n",
      "nan nan\n",
      "nan nan\n",
      "nan nan\n",
      "nan nan\n",
      "nan nan\n",
      "nan nan\n",
      "nan nan\n",
      "nan nan\n",
      "nan nan\n",
      "nan nan\n",
      "nan nan\n",
      "nan nan\n",
      "nan nan\n",
      "nan nan\n",
      "nan nan\n",
      "nan nan\n",
      "withers (2012) withers (2012)\n",
      "ppm ppm\n",
      "nan nan\n",
      "withers (2012) withers (2012)\n",
      "ppm ppm\n",
      "nan nan\n",
      "withers (2012) withers (2012)\n",
      "ppm ppm\n",
      "nan nan\n",
      "withers (2012) withers (2012)\n",
      "ppm ppm\n",
      "nan nan\n",
      "withers (2012) withers (2012)\n",
      "ppm ppm\n",
      "nan nan\n",
      "withers (2012) withers (2012)\n",
      "ppm ppm\n",
      "nan nan\n",
      "withers (2012) withers (2012)\n",
      "ppm ppm\n",
      "nan nan\n",
      "withers (2012) withers (2012)\n",
      "ppm ppm\n",
      "nan nan\n",
      "withers (2012) withers (2012)\n",
      "ppm ppm\n",
      "nan nan\n",
      "withers (2012) withers (2012)\n",
      "ppm ppm\n",
      "nan nan\n",
      "withers (2012) withers (2012)\n",
      "ppm ppm\n",
      "nan nan\n",
      "withers (2012) withers (2012)\n",
      "ppm ppm\n",
      "nan nan\n",
      "withers (2012) withers (2012)\n",
      "ppm ppm\n",
      "nan nan\n",
      "withers (2012) withers (2012)\n",
      "ppm ppm\n",
      "nan nan\n",
      "withers (2012) withers (2012)\n",
      "ppm ppm\n",
      "nan nan\n",
      "withers (2012) withers (2012)\n",
      "ppm ppm\n",
      "nan nan\n",
      "withers (2012) withers (2012)\n",
      "ppm ppm\n",
      "nan nan\n",
      "withers (2012) withers (2012)\n",
      "ppm ppm\n",
      "nan nan\n",
      "withers (2012) withers (2012)\n",
      "ppm ppm\n",
      "nan nan\n",
      "withers (2012) withers (2012)\n",
      "ppm ppm\n",
      "nan nan\n",
      "withers (2012) withers (2012)\n",
      "ppm ppm\n",
      "nan nan\n",
      "withers (2012) withers (2012)\n",
      "ppm ppm\n",
      "nan nan\n",
      "withers (2012) withers (2012)\n",
      "ppm ppm\n",
      "nan nan\n",
      "withers (2012) withers (2012)\n",
      "ppm ppm\n",
      "nan nan\n",
      "nan nan\n",
      "nan nan\n",
      "nan nan\n",
      "nan nan\n",
      "nan nan\n",
      "nan nan\n",
      "nan nan\n",
      "nan nan\n",
      "nan nan\n",
      "nan nan\n",
      "nan nan\n",
      "nan nan\n",
      "nan nan\n",
      "nan nan\n",
      "nan nan\n",
      "nan nan\n",
      "nan nan\n",
      "nan nan\n",
      "nan nan\n",
      "nan nan\n",
      "nan nan\n",
      "nan nan\n",
      "nan nan\n",
      "nan nan\n",
      "nan nan\n",
      "nan nan\n",
      "nan nan\n",
      "bell (2003) bell (2003)\n",
      "ppm ppm\n",
      "nan nan\n",
      "bell (2003) bell (2003)\n",
      "ppm ppm\n",
      "nan nan\n",
      "bell (2003) bell (2003)\n",
      "ppm ppm\n",
      "nan nan\n",
      "bell (2003) bell (2003)\n",
      "ppm ppm\n",
      "nan nan\n",
      "bell (2003) bell (2003)\n",
      "ppm ppm\n",
      "nan nan\n",
      "bell (2003) bell (2003)\n",
      "ppm ppm\n",
      "nan nan\n",
      "paterson (1982) paterson (1982)\n",
      "wtpct wtpct\n",
      "nan nan\n",
      "paterson (1982) paterson (1982)\n",
      "wtpct wtpct\n",
      "nan nan\n",
      "paterson (1982) paterson (1982)\n",
      "wtpct wtpct\n",
      "nan nan\n",
      "paterson (1982) paterson (1982)\n",
      "wtpct wtpct\n",
      "nan nan\n",
      "paterson (1982) paterson (1982)\n",
      "wtpct wtpct\n",
      "nan nan\n",
      "paterson (1982) paterson (1982)\n",
      "wtpct wtpct\n",
      "nan nan\n",
      "paterson (1982) paterson (1982)\n",
      "ppm ppm\n",
      "nan nan\n",
      "paterson (1982) paterson (1982)\n",
      "ppm ppm\n",
      "nan nan\n",
      "paterson (1982) paterson (1982)\n",
      "ppm ppm\n",
      "nan nan\n",
      "nan nan\n",
      "nan nan\n",
      "nan nan\n",
      "nan nan\n",
      "nan nan\n",
      "nan nan\n",
      "nan nan\n",
      "nan nan\n",
      "nan nan\n",
      "nan nan\n",
      "nan nan\n",
      "nan nan\n",
      "nan nan\n",
      "nan nan\n",
      "nan nan\n",
      "nan nan\n",
      "nan nan\n",
      "nan nan\n",
      "Libowitzky and rossman (1996) Libowitzky and rossman (1996)\n",
      "wtpct wtpct\n",
      "nan nan\n",
      "Libowitzky and rossman (1996) Libowitzky and rossman (1996)\n",
      "wtpct wtpct\n",
      "nan nan\n",
      "Libowitzky and rossman (1996) Libowitzky and rossman (1996)\n",
      "wtpct wtpct\n",
      "nan nan\n",
      "Libowitzky and rossman (1996) Libowitzky and rossman (1996)\n",
      "wtpct wtpct\n",
      "nan nan\n",
      "Libowitzky and rossman (1996) Libowitzky and rossman (1996)\n",
      "wtpct wtpct\n",
      "nan nan\n",
      "Libowitzky and rossman (1996) Libowitzky and rossman (1996)\n",
      "wtpct wtpct\n",
      "nan nan\n",
      "nan nan\n",
      "nan nan\n",
      "nan nan\n",
      "nan nan\n",
      "nan nan\n",
      "nan nan\n",
      "nan nan\n",
      "nan nan\n",
      "nan nan\n",
      "nan nan\n",
      "nan nan\n",
      "nan nan\n",
      "nan nan\n",
      "nan nan\n",
      "nan nan\n",
      "nan nan\n",
      "nan nan\n",
      "nan nan\n",
      "bell (1995) bell (1995)\n",
      "ppm ppm\n",
      "nan nan\n",
      "bell (1995) bell (1995)\n",
      "ppm ppm\n",
      "nan nan\n",
      "bell (1995) bell (1995)\n",
      "ppm ppm\n",
      "nan nan\n",
      "bell (1995) bell (1995)\n",
      "ppm ppm\n",
      "nan nan\n",
      "bell (1995) bell (1995)\n",
      "ppm ppm\n",
      "nan nan\n",
      "bell (1995) bell (1995)\n",
      "ppm ppm\n",
      "nan nan\n",
      "bell (2003) bell (2003)\n",
      "ppm ppm\n",
      "nan nan\n",
      "bell (2003) bell (2003)\n",
      "ppm ppm\n",
      "nan nan\n",
      "bell (2003) bell (2003)\n",
      "ppm ppm\n",
      "nan nan\n",
      "bell (2003) bell (2003)\n",
      "ppm ppm\n",
      "nan nan\n",
      "bell (2003) bell (2003)\n",
      "ppm ppm\n",
      "nan nan\n",
      "bell (2003) bell (2003)\n",
      "ppm ppm\n",
      "nan nan\n",
      "Johnson and Rossman (2003) Johnson and Rossman (2003)\n",
      "ppm ppm\n",
      "nan nan\n",
      "Johnson and Rossman (2003) Johnson and Rossman (2003)\n",
      "ppm ppm\n",
      "nan nan\n",
      "Johnson and Rossman (2003) Johnson and Rossman (2003)\n",
      "ppm ppm\n",
      "nan nan\n",
      "Johnson and Rossman (2003) Johnson and Rossman (2003)\n",
      "ppm ppm\n",
      "nan nan\n",
      "Johnson and Rossman (2003) Johnson and Rossman (2003)\n",
      "ppm ppm\n",
      "nan nan\n",
      "Johnson and Rossman (2003) Johnson and Rossman (2003)\n",
      "ppm ppm\n",
      "nan nan\n",
      "Original Conductivity: [0.0039755] S/m\n",
      "Water-Corrected Conductivity: [0.00104387] S/m\n"
     ]
    }
   ],
   "source": [
    "from pyrrhenius.model import WaterCorrection\n",
    "from pyrrhenius.database import Database\n",
    "\n",
    "# Initialize database and water-corrected model\n",
    "ecdatabase = Database()\n",
    "ecdatabase.create_isotropic_models()\n",
    "base_model = ecdatabase.get_model('isotropic_model:gar_14_withers_ol[100]+gar_14_withers_ol[010]+gar_14_withers_ol[001]')\n",
    "water_corrected_model = WaterCorrection(base_model,correction_factor=1/3)\n",
    "\n",
    "# Define parameters\n",
    "T = 1200  # Temperature in K\n",
    "P = 1.5   # Pressure in GPa\n",
    "Cw = 150   # Water concentration in ppm\n",
    "\n",
    "# Calculate conductivity with water correction\n",
    "corrected = water_corrected_model.get_conductivity(T=T, P=P, Cw=Cw)\n",
    "original  = base_model.get_conductivity(T=T, P=P, Cw=Cw)\n",
    "print(f\"Original Conductivity: {original} S/m\")\n",
    "print(f\"Water-Corrected Conductivity: {corrected} S/m\")"
   ]
  },
  {
   "cell_type": "code",
   "execution_count": 25,
   "id": "ffb5dbf3",
   "metadata": {
    "execution": {
     "iopub.execute_input": "2024-09-06T16:40:25.116762Z",
     "iopub.status.busy": "2024-09-06T16:40:25.116605Z",
     "iopub.status.idle": "2024-09-06T16:40:27.691832Z",
     "shell.execute_reply": "2024-09-06T16:40:27.691497Z"
    }
   },
   "outputs": [
    {
     "name": "stdout",
     "output_type": "stream",
     "text": [
      "Base Model Time (1000 iterations): 2.375855 seconds\n",
      "Cached Model Time (First Run): 0.002381 seconds\n",
      "Cached Model Time (1000 iterations, using cache): 0.000295 seconds\n",
      "\n",
      "Base Model Conductivity: [12.51336529 13.3152351  14.09626467 ... 39.31318444 39.32998146\n",
      " 39.34456567]\n",
      "Cached Model Conductivity: [12.51336529 13.3152351  14.09626467 ... 39.31318444 39.32998146\n",
      " 39.34456567]\n",
      "\n",
      "Speedup factor (cached vs base): 8048.07x\n"
     ]
    }
   ],
   "source": [
    "from pyrrhenius.model import CachedModel\n",
    "from pyrrhenius.database import Database\n",
    "import timeit\n",
    "\n",
    "# Initialize database and cached model\n",
    "ecdatabase = Database()\n",
    "base_model = ecdatabase.get_model('sk17_brine')\n",
    "\n",
    "cached_model = CachedModel(base_model)\n",
    "\n",
    "# Define parameters for simulation\n",
    "T = np.linspace(400,700,num=100) # Temperature in K\n",
    "P = 1.0   # Pressure in GPa\n",
    "nacl = 5 # 5% NaCl\n",
    "\n",
    "def time_base_model():\n",
    "    return base_model.get_conductivity(T=T, P=P, nacl=nacl)\n",
    "\n",
    "def time_cached_model():\n",
    "    return cached_model.get_conductivity(T=T, P=P, nacl=nacl)\n",
    "\n",
    "base_time = timeit.timeit(time_base_model, number=1000)\n",
    "print(f\"Base Model Time (1000 iterations): {base_time:.6f} seconds\")\n",
    "\n",
    "first_cached_time = timeit.timeit(time_cached_model, number=1)\n",
    "print(f\"Cached Model Time (First Run): {first_cached_time:.6f} seconds\")\n",
    "\n",
    "cached_time = timeit.timeit(time_cached_model, number=1000)\n",
    "print(f\"Cached Model Time (1000 iterations, using cache): {cached_time:.6f} seconds\")\n",
    "\n",
    "base_conductivity = base_model.get_conductivity(T=T, P=P, nacl=nacl)\n",
    "cached_conductivity = cached_model.get_conductivity(T=T, P=P, nacl=nacl)\n",
    "\n",
    "print(f\"\\nBase Model Conductivity: {base_conductivity}\")\n",
    "print(f\"Cached Model Conductivity: {cached_conductivity}\")\n",
    "\n",
    "speedup = base_time / cached_time\n",
    "print(f\"\\nSpeedup factor (cached vs base): {speedup:.2f}x\")"
   ]
  }
 ],
 "metadata": {
  "kernelspec": {
   "display_name": "Python 3 (ipykernel)",
   "language": "python",
   "name": "python3"
  },
  "language_info": {
   "codemirror_mode": {
    "name": "ipython",
    "version": 3
   },
   "file_extension": ".py",
   "mimetype": "text/x-python",
   "name": "python",
   "nbconvert_exporter": "python",
   "pygments_lexer": "ipython3",
   "version": "3.9.19"
  }
 },
 "nbformat": 4,
 "nbformat_minor": 5
}